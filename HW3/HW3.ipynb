{
 "cells": [
  {
   "cell_type": "markdown",
   "id": "8dba6a3f-8eef-4e3e-9745-ad11274c2ab3",
   "metadata": {},
   "source": [
    "<!-- Steps to Approach the Project:\n",
    "\n",
    "Understand the Data:\n",
    "\n",
    "Load the dataset and visualize some images to get a sense of the data.\n",
    "Analyze the distribution of pixel values.\n",
    "Preprocess the Data:\n",
    "\n",
    "Consider scaling or normalizing the data.\n",
    "Optionally apply dimensionality reduction techniques to reduce noise and computation time.\n",
    "Choose a Clustering Algorithm:\n",
    "\n",
    "Select an appropriate clustering algorithm.\n",
    "Justify your choice based on the data characteristics.\n",
    "Cluster the Data:\n",
    "\n",
    "Apply the clustering algorithm to assign cluster labels to each image.\n",
    "Ensure that cluster labels are integers from 1 to 10.\n",
    "Evaluate and Iterate:\n",
    "\n",
    "Since you don't have true labels, use internal validation metrics (like silhouette score) to assess clustering quality.\n",
    "Iterate on preprocessing and algorithm parameters to improve clustering. -->"
   ]
  },
  {
   "cell_type": "markdown",
   "id": "be8307c5-ab7e-4062-8148-43b9d158d798",
   "metadata": {},
   "source": [
    "# Steps to Approach the Project:\n",
    "\n",
    "## Understand the Data:\n",
    "\n",
    "Load the dataset and visualize some images to get a sense of the data.\n",
    "Analyze the distribution of pixel values.\n",
    "## Preprocess the Data:\n",
    "Consider scaling or normalizing the data.\n",
    "Optionally apply dimensionality reduction techniques to reduce noise and computation time.\n",
    "\n",
    "## Choose a Clustering Algorithm:\n",
    "Select an appropriate clustering algorithm.\n",
    "Justify your choice based on the data characteristics.\n",
    "\n",
    "## Cluster the Data:\n",
    "Apply the clustering algorithm to assign cluster labels to each image.\n",
    "Ensure that cluster labels are integers from 1 to 10.\n",
    "\n",
    "## Evaluate and Iterate:\n",
    "Since you don't have true labels, use internal validation metrics (like silhouette score) to assess clustering quality.\n",
    "Iterate on preprocessing and algorithm parameters to improve clustering."
   ]
  },
  {
   "cell_type": "code",
   "execution_count": 1,
   "id": "9a56955d-a4ab-4b63-a937-c45aa35ea7ee",
   "metadata": {},
   "outputs": [
    {
     "name": "stdout",
     "output_type": "stream",
     "text": [
      "Requirement already satisfied: umap-learn in d:\\gmu courses\\cs-584\\assignments\\hw3\\myenv\\lib\\site-packages (0.5.7)\n",
      "Requirement already satisfied: numpy>=1.17 in d:\\gmu courses\\cs-584\\assignments\\hw3\\myenv\\lib\\site-packages (from umap-learn) (1.24.3)\n",
      "Requirement already satisfied: scipy>=1.3.1 in d:\\gmu courses\\cs-584\\assignments\\hw3\\myenv\\lib\\site-packages (from umap-learn) (1.10.1)\n",
      "Requirement already satisfied: scikit-learn>=0.22 in d:\\gmu courses\\cs-584\\assignments\\hw3\\myenv\\lib\\site-packages (from umap-learn) (1.3.0)\n",
      "Requirement already satisfied: numba>=0.51.2 in d:\\gmu courses\\cs-584\\assignments\\hw3\\myenv\\lib\\site-packages (from umap-learn) (0.58.1)\n",
      "Requirement already satisfied: pynndescent>=0.5 in d:\\gmu courses\\cs-584\\assignments\\hw3\\myenv\\lib\\site-packages (from umap-learn) (0.5.13)\n",
      "Requirement already satisfied: tqdm in d:\\gmu courses\\cs-584\\assignments\\hw3\\myenv\\lib\\site-packages (from umap-learn) (4.66.5)\n",
      "Requirement already satisfied: llvmlite<0.42,>=0.41.0dev0 in d:\\gmu courses\\cs-584\\assignments\\hw3\\myenv\\lib\\site-packages (from numba>=0.51.2->umap-learn) (0.41.1)\n",
      "Requirement already satisfied: importlib-metadata in d:\\gmu courses\\cs-584\\assignments\\hw3\\myenv\\lib\\site-packages (from numba>=0.51.2->umap-learn) (7.0.1)\n",
      "Requirement already satisfied: joblib>=0.11 in d:\\gmu courses\\cs-584\\assignments\\hw3\\myenv\\lib\\site-packages (from pynndescent>=0.5->umap-learn) (1.4.2)\n",
      "Requirement already satisfied: threadpoolctl>=2.0.0 in d:\\gmu courses\\cs-584\\assignments\\hw3\\myenv\\lib\\site-packages (from scikit-learn>=0.22->umap-learn) (3.5.0)\n",
      "Requirement already satisfied: colorama in d:\\gmu courses\\cs-584\\assignments\\hw3\\myenv\\lib\\site-packages (from tqdm->umap-learn) (0.4.6)\n",
      "Requirement already satisfied: zipp>=0.5 in d:\\gmu courses\\cs-584\\assignments\\hw3\\myenv\\lib\\site-packages (from importlib-metadata->numba>=0.51.2->umap-learn) (3.17.0)\n"
     ]
    }
   ],
   "source": [
    "%matplotlib inline\n",
    "!pip install umap-learn"
   ]
  },
  {
   "cell_type": "code",
   "execution_count": 2,
   "id": "735d9b7f-2ba1-4e8d-9394-0b377127bbd1",
   "metadata": {},
   "outputs": [],
   "source": [
    "import pandas as pd\n",
    "import numpy as np\n",
    "import matplotlib.pyplot as plt\n",
    "from sklearn.decomposition import PCA\n",
    "from sklearn.preprocessing import MinMaxScaler, StandardScaler\n",
    "import umap.umap_ as umap"
   ]
  },
  {
   "cell_type": "code",
   "execution_count": 3,
   "id": "d128d66c-a6b0-43f6-83cd-b2b39aa19f60",
   "metadata": {},
   "outputs": [
    {
     "name": "stdout",
     "output_type": "stream",
     "text": [
      "Data shape: (10740, 784)\n"
     ]
    },
    {
     "data": {
      "image/png": "[encoded data removed]",
      "text/plain": [
       "<Figure size 500x500 with 9 Axes>"
      ]
     },
     "metadata": {},
     "output_type": "display_data"
    }
   ],
   "source": [
    "data = np.loadtxt('new_test.txt', delimiter=',')\n",
    "print(\"Data shape:\", data.shape)\n",
    "# Normalize the data\n",
    "# data_normalized = data / 255.0\n",
    "# pca = PCA()\n",
    "# pca.fit(data_normalized)\n",
    "# data_pca = pca.fit_transform(data_normalized)\n",
    "# print(\"Shape of PCA-transformed data:\", data_pca.shape)\n",
    "\n",
    "# Visualize the first image\n",
    "num_images = 9  # Number of images to display\n",
    "plt.figure(figsize=(5, 5))\n",
    "\n",
    "for i in range(num_images):\n",
    "    # Get the image vector and reshape\n",
    "    image_vector = data[i]\n",
    "    image_matrix = image_vector.reshape(28, 28)\n",
    "    # Add a subplot\n",
    "    plt.subplot(3, 3, i+1)\n",
    "    plt.imshow(image_matrix, cmap='gray')\n",
    "    plt.title(f'Image {i+1}')\n",
    "    plt.axis('off')\n",
    "\n",
    "#plt.tight_layout()\n",
    "plt.show()"
   ]
  },
  {
   "cell_type": "code",
   "execution_count": 4,
   "id": "73333881-4da6-4ea9-9454-38921be72b67",
   "metadata": {},
   "outputs": [],
   "source": [
    "# from sklearn.cluster import KMeans\n",
    "\n",
    "# # Set the number of clusters\n",
    "# K = 10\n",
    "\n",
    "# # Instantiate the KMeans algorithm\n",
    "# kmeans = KMeans(n_clusters=K, random_state=42)\n",
    "\n",
    "# # Fit the model to the PCA-transformed data\n",
    "# cluster_labels = kmeans.fit_predict(data_pca)\n",
    "\n",
    "# # Prepare the submission file\n",
    "# cluster_array = submission.values\n",
    "\n",
    "# # Save to a text file with one integer per line\n",
    "# np.savetxt('cluster_assignments.txt', cluster_array, fmt='%d')\n"
   ]
  },
  {
   "cell_type": "code",
   "execution_count": 5,
   "id": "c1922a77-f8b0-48bf-8057-e7417396adbf",
   "metadata": {},
   "outputs": [],
   "source": [
    "class KMeans:\n",
    "    def __init__(self, n_clusters, max_iter=10000, tol=1e-4):\n",
    "        self.n_clusters = n_clusters\n",
    "        self.max_iter = max_iter\n",
    "        self.tol = tol\n",
    "        self.centroids = None\n",
    "\n",
    "    def fit(self, data):\n",
    "        # Initialize centroids randomly from the data points\n",
    "        self.centroids = data[np.random.choice(range(len(data)), self.n_clusters, replace=False)]\n",
    "\n",
    "        for i in range(self.max_iter):\n",
    "            # Assign clusters\n",
    "            distances = np.linalg.norm(data[:, np.newaxis] - self.centroids, axis=2)\n",
    "            self.labels = np.argmin(distances, axis=1)\n",
    "            \n",
    "            # Compute new centroids\n",
    "            new_centroids = np.array([data[self.labels == j].mean(axis=0) for j in range(self.n_clusters)])\n",
    "\n",
    "            # Check for convergence\n",
    "            if np.all(np.abs(new_centroids - self.centroids) <= self.tol):\n",
    "                break\n",
    "            self.centroids = new_centroids\n",
    "\n",
    "        return self\n",
    "\n",
    "    # predict the labels\n",
    "    def predict(self, data):\n",
    "        distances = np.linalg.norm(data[:, np.newaxis] - self.centroids, axis=2)\n",
    "        return np.argmin(distances, axis=1)\n",
    "\n",
    "    # calculate sum of squared distance error\n",
    "    def sse(self, data):\n",
    "        # Calculate distances from each point to its assigned centroid\n",
    "        distances = np.sqrt(((data - self.centroids[self.labels, :])**2).sum(axis=1))\n",
    "        # Sum of squared distances\n",
    "        return np.sum(distances**2)\n"
   ]
  },
  {
   "cell_type": "code",
   "execution_count": 13,
   "id": "90ea8d0b-8d24-4ce8-9ce3-e10d089f94b6",
   "metadata": {},
   "outputs": [
    {
     "name": "stderr",
     "output_type": "stream",
     "text": [
      "D:\\GMU Courses\\CS-584\\Assignments\\HW3\\myenv\\lib\\site-packages\\umap\\umap_.py:1952: UserWarning: n_jobs value 1 overridden to 1 by setting random_state. Use no seed for parallelism.\n",
      "  warn(\n"
     ]
    }
   ],
   "source": [
    "scaler = MinMaxScaler()\n",
    "images_normalized = scaler.fit_transform(data)\n",
    "\n",
    "# Dimension reduction \n",
    "pca = PCA(n_components=50, random_state=42)\n",
    "data_pca = pca.fit_transform(images_normalized)\n",
    "\n",
    "umap_reducer = umap.UMAP(\n",
    "    n_components=50,\n",
    "    n_neighbors=15,\n",
    "    min_dist=0.0,\n",
    "    metric='euclidean',\n",
    "    random_state=42\n",
    ")\n",
    "embedding = umap_reducer.fit_transform(images_normalized)"
   ]
  },
  {
   "cell_type": "code",
   "execution_count": 14,
   "id": "871163b5-96e6-47d7-b911-e2daf7fe67f2",
   "metadata": {},
   "outputs": [],
   "source": [
    "# We know that K value is 10\n",
    "kmeans = KMeans(n_clusters=10)\n",
    "kmeans.fit(embedding)\n",
    "predicted_labels = kmeans.predict(embedding)\n"
   ]
  },
  {
   "cell_type": "code",
   "execution_count": 15,
   "id": "1bd67218-a937-4026-8a15-d6bdf2048ad4",
   "metadata": {},
   "outputs": [
    {
     "name": "stdout",
     "output_type": "stream",
     "text": [
      "Sum of Squared Errors (SSE): 19810.53\n"
     ]
    }
   ],
   "source": [
    "sse_value = kmeans.sse(embedding)\n",
    "print(f'Sum of Squared Errors (SSE): {sse_value:.2f}')"
   ]
  },
  {
   "cell_type": "code",
   "execution_count": 9,
   "id": "53c4b610-8806-4f43-b964-b442ed2dd7ae",
   "metadata": {},
   "outputs": [
    {
     "name": "stdout",
     "output_type": "stream",
     "text": [
      "+++++++++ Prediction written to file: format_gridSearch1.txt +++++++++\n"
     ]
    }
   ],
   "source": [
    "file_name = \"format_gridSearch1.txt\"\n",
    "with open(file_name, 'w+') as file:\n",
    "    for prediction in predicted_labels:\n",
    "        file.write(str(prediction) + '\\n')\n",
    "\n",
    "print(\"+++++++++ Prediction written to file: {} +++++++++\".format(file_name))"
   ]
  },
  {
   "cell_type": "code",
   "execution_count": 10,
   "id": "b6e1a60b-5cff-4fa2-8b46-f2707f1e4525",
   "metadata": {},
   "outputs": [],
   "source": [
    "# # Import necessary libraries\n",
    "# import numpy as np\n",
    "# import pandas as pd\n",
    "# from sklearn.base import BaseEstimator, TransformerMixin\n",
    "# from sklearn.preprocessing import StandardScaler\n",
    "# from sklearn.decomposition import PCA\n",
    "# from sklearn.pipeline import Pipeline\n",
    "# from sklearn.cluster import KMeans\n",
    "# from sklearn.metrics import make_scorer, silhouette_score\n",
    "# from sklearn.model_selection import GridSearchCV\n",
    "# import umap\n",
    "\n",
    "# # Custom transformer for UMAP\n",
    "# class UMAPTransformer(BaseEstimator, TransformerMixin):\n",
    "#     def __init__(self, n_neighbors=15, min_dist=0.1, n_components=2, metric='euclidean', random_state=None):\n",
    "#         self.n_neighbors = n_neighbors\n",
    "#         self.min_dist = min_dist\n",
    "#         self.n_components = n_components\n",
    "#         self.metric = metric\n",
    "#         self.random_state = random_state\n",
    "#         self.reducer_ = None\n",
    "\n",
    "#     def fit(self, X, y=None):\n",
    "#         self.reducer_ = umap.UMAP(\n",
    "#             n_neighbors=self.n_neighbors,\n",
    "#             min_dist=self.min_dist,\n",
    "#             n_components=self.n_components,\n",
    "#             metric=self.metric,\n",
    "#             random_state=self.random_state\n",
    "#         )\n",
    "#         self.reducer_.fit(X)\n",
    "#         return self\n",
    "\n",
    "#     def transform(self, X):\n",
    "#         return self.reducer_.transform(X)\n",
    "\n",
    "# # Load the data\n",
    "\n",
    "\n",
    "# # Scaling\n",
    "# scaler = MinMaxScaler()\n",
    "# data_scaled = scaler.fit_transform(data)\n",
    "\n",
    "# # Define the pipeline\n",
    "# pipeline = Pipeline([\n",
    "#     ('pca', PCA(random_state=42)),\n",
    "#     ('umap', UMAPTransformer(random_state=42)),\n",
    "#     ('kmeans', KMeans(random_state=42))\n",
    "# ])\n",
    "\n",
    "# # Define the parameter grid\n",
    "# param_grid = {\n",
    "#     'pca__n_components': [50, 100, 150, 200],\n",
    "#     'umap__n_neighbors': [15, 30, 50, 100],\n",
    "#     'umap__min_dist': [0.0, 0.1, 0.5],\n",
    "#     'umap__metric': ['euclidean', 'cosine'],\n",
    "#     'umap__n_components': [50],  # Adjust if you want different UMAP output dimensions\n",
    "#     'kmeans__n_clusters': [10],  # K is fixed at 10\n",
    "#     'kmeans__init': ['k-means++', 'random'],\n",
    "#     'kmeans__n_init': [10]\n",
    "# }\n",
    "\n",
    "# # Define a custom scoring function\n",
    "# def silhouette_scorer(estimator, X):\n",
    "#     # Transform the data using the pipeline up to the clustering step\n",
    "#     X_transformed = estimator[:-1].transform(X)\n",
    "#     # Get cluster labels from KMeans\n",
    "#     cluster_labels = estimator.named_steps['kmeans'].labels_\n",
    "#     # Compute the Silhouette Score\n",
    "#     score = silhouette_score(X_transformed, cluster_labels)\n",
    "#     return score\n",
    "\n",
    "# # Create a scorer object\n",
    "# scorer = make_scorer(silhouette_scorer, greater_is_better=True)\n",
    "\n",
    "# # Initialize GridSearchCV\n",
    "# grid_search = GridSearchCV(\n",
    "#     estimator=pipeline,\n",
    "#     param_grid=param_grid,\n",
    "#     scoring=scorer,\n",
    "#     cv=[(slice(None), slice(None))],\n",
    "#     verbose=2,\n",
    "#     n_jobs=-1\n",
    "# )\n",
    "\n",
    "# # Fit the grid search\n",
    "# grid_search.fit(data_scaled)\n",
    "\n",
    "# # Get the best parameters and score\n",
    "# best_params = grid_search.best_params_\n",
    "# best_score = grid_search.best_score_\n",
    "\n",
    "# print(\"\\nBest Silhouette Score: {:.4f}\".format(best_score))\n",
    "# print(\"Best Parameters:\")\n",
    "# for param_name in sorted(best_params.keys()):\n",
    "#     print(f\"{param_name}: {best_params[param_name]}\")\n",
    "\n",
    "# # Get the best estimator\n",
    "# best_model = grid_search.best_estimator_\n",
    "\n",
    "# # Transform the data using the best pipeline\n",
    "# data_transformed = best_model[:-1].transform(data_scaled)\n",
    "\n",
    "# # Get the cluster labels\n",
    "# cluster_labels = best_model.named_steps['kmeans'].labels_\n",
    "\n",
    "# # Adjust labels to start from 1\n",
    "# cluster_labels_submission = cluster_labels + 1\n",
    "\n",
    "# # Save the cluster assignments to a text file\n",
    "# np.savetxt('format_gridSearch.txt', cluster_labels_submission, fmt='%d')\n",
    "\n",
    "# # Optional: Visualize the clustering results (if data_transformed has 2 components)\n",
    "# if data_transformed.shape[1] == 2:\n",
    "#     import matplotlib.pyplot as plt\n",
    "\n",
    "#     plt.figure(figsize=(8, 6))\n",
    "#     plt.scatter(\n",
    "#         data_transformed[:, 0],\n",
    "#         data_transformed[:, 1],\n",
    "#         c=cluster_labels,\n",
    "#         cmap='tab10',\n",
    "#         s=5\n",
    "#     )\n",
    "#     plt.title('Clustering Results with Best Parameters')\n",
    "#     plt.xlabel('Component 1')\n",
    "#     plt.ylabel('Component 2')\n",
    "#     plt.colorbar(label='Cluster Label')\n",
    "#     plt.show()\n"
   ]
  },
  {
   "cell_type": "code",
   "execution_count": null,
   "id": "3f33a62a-4638-40bc-ba60-e62e453b1339",
   "metadata": {},
   "outputs": [],
   "source": []
  }
 ],
 "metadata": {
  "kernelspec": {
   "display_name": "Python 3 (ipykernel)",
   "language": "python",
   "name": "python3"
  },
  "language_info": {
   "codemirror_mode": {
    "name": "ipython",
    "version": 3
   },
   "file_extension": ".py",
   "mimetype": "text/x-python",
   "name": "python",
   "nbconvert_exporter": "python",
   "pygments_lexer": "ipython3",
   "version": "3.8.19"
  }
 },
 "nbformat": 4,
 "nbformat_minor": 5
}
