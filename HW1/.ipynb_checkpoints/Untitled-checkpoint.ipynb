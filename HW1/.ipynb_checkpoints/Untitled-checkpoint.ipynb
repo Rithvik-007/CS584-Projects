{
 "cells": [
  {
   "cell_type": "code",
   "execution_count": 1,
   "id": "419e57fd-be04-4b60-b67f-2a0af69b4ed3",
   "metadata": {},
   "outputs": [
    {
     "name": "stdout",
     "output_type": "stream",
     "text": [
      "Requirement already satisfied: nltk in d:\\gmu courses\\cs-584\\assignments\\hw1\\myenv\\lib\\site-packages (3.9.1)\n",
      "Requirement already satisfied: click in d:\\gmu courses\\cs-584\\assignments\\hw1\\myenv\\lib\\site-packages (from nltk) (8.1.7)\n",
      "Requirement already satisfied: joblib in d:\\gmu courses\\cs-584\\assignments\\hw1\\myenv\\lib\\site-packages (from nltk) (1.4.2)\n",
      "Requirement already satisfied: regex>=2021.8.3 in d:\\gmu courses\\cs-584\\assignments\\hw1\\myenv\\lib\\site-packages (from nltk) (2024.9.11)\n",
      "Requirement already satisfied: tqdm in d:\\gmu courses\\cs-584\\assignments\\hw1\\myenv\\lib\\site-packages (from nltk) (4.66.5)\n",
      "Requirement already satisfied: colorama in d:\\gmu courses\\cs-584\\assignments\\hw1\\myenv\\lib\\site-packages (from click->nltk) (0.4.6)\n"
     ]
    }
   ],
   "source": [
    "!pip install nltk"
   ]
  },
  {
   "cell_type": "code",
   "execution_count": 1,
   "id": "34b345ce-714b-432e-a38f-eb2a5fcf01ca",
   "metadata": {},
   "outputs": [
    {
     "name": "stderr",
     "output_type": "stream",
     "text": [
      "[nltk_data] Downloading package punkt_tab to\n",
      "[nltk_data]     C:\\Users\\rithv\\AppData\\Roaming\\nltk_data...\n",
      "[nltk_data]   Package punkt_tab is already up-to-date!\n",
      "[nltk_data] Downloading package wordnet to\n",
      "[nltk_data]     C:\\Users\\rithv\\AppData\\Roaming\\nltk_data...\n",
      "[nltk_data]   Package wordnet is already up-to-date!\n"
     ]
    },
    {
     "data": {
      "text/plain": [
       "True"
      ]
     },
     "execution_count": 1,
     "metadata": {},
     "output_type": "execute_result"
    }
   ],
   "source": [
    "import numpy as np\n",
    "import pandas as pd\n",
    "import nltk\n",
    "import re \n",
    "from nltk import tokenize\n",
    "from sklearn.feature_extraction.text import TfidfVectorizer, CountVectorizer\n",
    "from nltk.stem import WordNetLemmatizer\n",
    "from nltk.tokenize import word_tokenize\n",
    "\n",
    "nltk.download('punkt_tab') # Download the 'punkt' resource\n",
    "nltk.download('wordnet') # Download the 'wordnet' resource "
   ]
  },
  {
   "cell_type": "code",
   "execution_count": 2,
   "id": "2606d61a-b719-442e-a79b-6d2d4a0c4886",
   "metadata": {},
   "outputs": [
    {
     "name": "stdout",
     "output_type": "stream",
     "text": [
      "['C:\\\\Users\\\\rithv/nltk_data', 'D:\\\\GMU Courses\\\\CS-584\\\\Assignments\\\\HW1\\\\myenv\\\\nltk_data', 'D:\\\\GMU Courses\\\\CS-584\\\\Assignments\\\\HW1\\\\myenv\\\\share\\\\nltk_data', 'D:\\\\GMU Courses\\\\CS-584\\\\Assignments\\\\HW1\\\\myenv\\\\lib\\\\nltk_data', 'C:\\\\Users\\\\rithv\\\\AppData\\\\Roaming\\\\nltk_data', 'C:\\\\nltk_data', 'D:\\\\nltk_data', 'E:\\\\nltk_data']\n"
     ]
    }
   ],
   "source": [
    "print(nltk.data.path)"
   ]
  },
  {
   "cell_type": "code",
   "execution_count": 3,
   "id": "f0c8d141-61c4-4d11-bf06-d65b1876372d",
   "metadata": {},
   "outputs": [],
   "source": [
    "#data = pd.read_csv(\"Train.txt\", delimiter=\"EOF\", on_bad_lines='skip')\n",
    "\n",
    "file = \"Train.txt\""
   ]
  },
  {
   "cell_type": "code",
   "execution_count": 4,
   "id": "f76e29ba-ee3c-434a-82f6-28cdaf7950ec",
   "metadata": {
    "scrolled": true
   },
   "outputs": [
    {
     "name": "stdout",
     "output_type": "stream",
     "text": [
      "+1\tOne of my all-time favorite so-laughably-lousy-that-it's-totally-lovable el cheapo and stinko nickel'n'dime independent horror creature features, an enjoyably dreadful marvel that was released by the formidably fecund exploitation outfit Crown International Pictures so it could play numerous crappy double bills at countless drive-ins back in the 70's and eventually wound up being rerun like crazy on several small-time secondary cable stations throughout the 80's. I naturally first saw this gloriously ghastly abomination on late-night television one fateful Saturday evening while in my early teens and have had a deep-seated, albeit completely irrational abiding fondness for it ever since.<br /><br />A meteorite falls out of the sky and crashes into the still waters of a tranquil country lake, thereby causing a heretofore dormant dinosaur egg to hatch. Of course, the baby dino immediately grows into a gigantic waddling, grunting, teeth-gnashing prehistoric behemoth with goofy flippers, an extended neck and a huge mouth full of little sharp, jagged, stalagmite-like chompers. Our Southern-fried male cousin to the Loch Ness Monster promptly starts chowing down on various luckless local yokel residents of a previously quiet and sleepy hillbilly resort town. It's up to drippy stalwart sheriff Richard Cardella, assisted by the painfully idiotic hayseed comic relief brotherly fishing guide duo of Glenn Roberts and Mark Seigel, feisty gal pal Kacey Cobb and terminally insipid nerdy scientist Bob Hyman, to get to the bottom of things before the over-sized gluttonous Jurassic throwback ruins the tourist trade by eating all the campers and fisherman that the hick hamlet makes its cash off of.<br /><br />Director/co-screenwriter William R. Stromberg displays a wonderfully woeful and thoroughly clueless incompetence when it comes to pacing, atmosphere, taut narrative construction and especially eliciting sound, credible acting from his hopelessly all-thumbs rank amateur community theater level cast. The performances are uniformly abysmal: Cardella is way too bland and wooden to cut it as a solid heroic lead while the pitifully dopey redneck comic antics of Roberts and Seigel provoke groans of slack-jawed disbelief -- you aren't laughing with these two atrociously mugging clods so much as at them, particularly when the insufferable imbeciles discover a severed head bobbing up and down in the murky lake water. Better yet, a clumsily integrated sub-plot concerning a vicious on-the-loose criminal leads to a spectacularly ham-fisted supermarket hold-up scene which degenerates into a hilariously stupid mini-massacre when a young lady shopper interrupts the stick-up artist in mid-robbery! A subsequent car chase is likewise severely bungled as well; it's so limply staged and unimpressive that one feels more relieved than scared when the monster abruptly pops up to devour the nefarious fugitive. Moreover, David Allen's funky herky-jerky stop motion animation dinosaur is the authentic gnarly article, projecting a certain raw charisma, sneaky reptilian personality and overall forceful screen presence which makes all the horrendously underwhelming human characters seem like pathetically unbecoming nobody bores in comparison. And as for the rousing conclusion where the sheriff takes on our slavering beastie with a bulldozer, the operative word for this thrilling confrontation is boffo all the way. #EOF\n",
      "\n",
      "-1\tI had high hopes for this film, because I thought CLEAN, SHAVEN (Kerrigan's first feature) was absolutely terrific, the most assuredly cinematic low budget film I'd ever seen.<br /><br />But much of CLAIRE DOLAN is utterly pointless and flat. Scene after scene seems randomly tossed into the mix, without much thought for narrative or character.<br /><br />Is Claire trying to escape being a prostitute or not? Hard to tell. Why does she pick up the trick at the airport if she wants to escape that life? Why does she then not pick up tricks when she needs money in Seattle? Why do we have to see her dye her hair to what is virtually the exact same color? Why does Claire accept some johns and not others? The filmmaker doesn't seem to know.<br /><br />It feels as if everything is improvised (though I understand this wasn't the case) and the filmmakers just held a camera on it as if they were making a verite documentary.<br /><br />After the screening I saw, Kerrigan defended his lack of narrative choices by condemning film narrative as politically conservative. It sounded like learned rhetoric. I think it was a cop-out.<br /><br />I am saddened that the maker of a film as exciting as CLEAN, SHAVEN would go on to make such a lame film as this one and then defend it with tired old \"political\" cliches. #EOF\n",
      "\n",
      "-1\tWhen this was released, I thought this was one of the most profane films ever made. However, thanks to Martin Scorcese and a few other filmmakers like him, there have been mainline films worse, language-wise, than this....but this is a pretty brutal assault on one's ears. Hey, I can take a lot of it, but this got ridiculous. In the first six minutes alone, I heard a half-dozen usage's of the Lord's name in vain plus an untold number of f-words. I wonder how many people walked out of the theater watching this in 1990? I couldn't have been the only one.<br /><br />Not surprisingly, some of the feature actors included Jennifer Jason-Leigh, Burt Young, Jerry Orbach and Rikki Lake. Since this film, Stephen Lang seems to have improved his image, at least playing the Godly \"Stonewall\" Jackson in \"Gods and Generals.\" Lang's role here is just the opposite: perhaps the worst trashy person in the film and a character who falls in love with a transvestite by the end of the film.<br /><br />Depressing, gloomy, semi-pornographic, repulsive: these are just a few of the adjectives people used - even some Liberal critics - in describing this story, which is painted even worse in the novel. Of course, some of the better-known critics, all extreme Libs, praised the movie. However, they were the only ones. Most critics were disgusted, as well almost all of the paying public. It's unbelievable that anyone could praise filth and garbage like this.<br /><br />Trust me on this: there are no good, likable characters in this entire movie. This is a mean, sick film: one of the worst of the \"modern era.\" That is, unless you enjoy seeing child abuse, drug abuse, teen prostitutes, on and on - two straight hours of nothing but atrocities and just plain evil people. No thanks. #EOF\n",
      "\n",
      "-1\tI just watched this movie on Starz. Let me go through a few things i thought could have been improved; the acting, writing, directing, special effects, camera crew, sound, and lighting. It also seemed as though the writers had no idea anything that had to do with the movie. Apparently back in 2007, when the dollar was stronger you could buy a super advanced stealth bomber that could go completely invisible for $75 million. Now-a-days those things cost about $3 billion and they cant go invisible. Apparently you can fly from the US to the middle east in an hour. There was a completely random lesbian scene, which I didn't mind, but it seemed like a lame attempt to get more guys to see it. The camera would randomly zoom in on actors and skip to random scenes. Oh yeah, since its a Steven Segal movie, its predictable as hell. All in all I rank it right up there with Snakes on a Plane. #EOF\n",
      "\n",
      "+1\tI loved it so much that I bought the DVD and the novel at the same time. The chemistry between the actors (including little Arthur) is amazing and thrilling.<br /><br />It could have used a bit more screen time for the yummy Frederick Lawrence (played by James Purefoy). And Gilbert Markham was amazingly \"on it\" from the very start of the movie. <br /><br />The one who most thrilled me via surprising shock and awe and wonder was Rupert Graves as Arthur Huntingdon. I adore him in Forsyte Saga, and all else I've seen him in. But he outdoes himself here as Arthur. In my wildest dreams I could not have pictured him playing a demented psycho such as Arthur Huntingdon. But he does. And I love it. And I love him. #EOF\n",
      "\n",
      "+1\tThings to Come is indeed a classic work of speculative fiction; both an essay on the destructive nature of war and the terrors of progress. It makes some surprising accurate depictions of the war that was to follow a few years later, but is woefully naive in it's Utopian ideals.<br /><br />Raymond Massey, Cedric Hardwicke, and Ralph Richardson make up a fine cast, although the drama is played more as a stage piece, than a work of cinema. There are grandiose, if somewhat stilted speeches, often delivered as if the actor is trying to reach the back of the theater. However, there are some profound words there. Is technology the savior of mankind, or the instrument of its destruction? The film is a visual feast, if one can detach oneself from the age of the effects. Sure, Hollywood is more sophisticated today, but rarely as inventive. For the imaginative, the third act is a treat: a world with underground cities, massive deco bombers, space cannons, gyro copters, and secret organizations of scientist saviors. It has all of the makings of a sci-fi pulp adventure, but instead uses the trappings for a philosophical exercise.<br /><br />Things to Come and Metropolis were the hallmarks of neolithic Hollywood science fiction cinema. They are operatic in scope, and visually inspiring. Technology has long left them behind, but their ideas still burst forth. There is an artistry there, one with more heart and emotion than the computer generated mass-produced cinema of today. These films are the products of artisans, not industrialists. #EOF\n",
      "\n",
      "+1\tIt's amazing that from a good, though not wonderful, film made back in the early Nineties, a whole franchise can grow. 'Stargate; SG1' is, without a doubt, a worthy addition to the science fiction genre and has the right to stand shoulder-to-shoulder with 'Star Trek' as the kings of sci-fi.<br /><br />Following on from the 1994 feature film 'Stargate', this series sees Stargate command (a military/science organisation) figuring out that the stargate system can be used to travel to various planets across the galaxy and beyond and the military sets up a number of teams to explore. SG1 is one such team, headed by military veteran Colonel Jack O'Neill, and includes archaeologist Doctor Daniel Jackson, military scientist Captain Samantha Carter and alien Teal'c, who has betrayed his overlord leaders in the hopes of one day freeing his people. Earth quickly makes an enemy of the Goa'uld, a parasitic race who use humans as hosts and think themselves equal to gods.<br /><br />The top-notch cast have much to be congratulated for in bringing this show to life. Richard Dean Anderson is perfect as the cynical and sarcastic O'Neill, who can shift from boyish to deadly in the blink of an eye. Michael Shanks, as Daniel, brings heart and an will of steel to the character, who has grown from wide-eyed innocence to darker and more hard-bitten as the show has progressed. Amanda Tapping, as Carter, has perfected the balance between depicting her character's femininity without comprising the fact she is a strong, intelligent military scientist. Christopher Judge is excellent as the aloof Teal'c, who is able to depict the character's emotions with subtlety. And Don S Davis is perfect as the esteemed General Hammond who leads with a good balance of fairness and firmness.<br /><br />Almost all the episodes are are involving and portrayed with intelligence, reflecting on moral dilemmas as well as the friction between military interests and civilian beliefs (often shown through arguments between O'Neill and Jackson). Guest characters are solidly depicted and story arcs are handled in a manner that doesn't bore viewers. SG1 also excels in humour, from O'Neill's wisecracks to episodes that are just wacky and odd! SG1 has everything from action to drama to romance to suspense to the heartbreaking scenes of death. It isn't just an excellent sci-fi show but is an excellent show, overall. #EOF\n",
      "\n",
      "+1\tI wasn't alive in the 60's, so I can't guarantee that this movie was a completely accurate representation of the period, but it is certainly a moving and fulfilling experience. There are some excellent performances, most notably by Josh Hamilton (of With Honors), Jerry O'Connell (Sliders), who play brothers divided by the war. Bill Smitrovich, a character actor who has been long ignored by many, gives a heart-filled performance as their strict father, who is forced to question his own beliefs and values as one of his sons makes him proud by going to Vietnam but returns empty inside, while the other is exactly the opposite. All in all, this is a powerful and heartwarming film that I hope everyone gets a chance to experience. #EOF\n",
      "\n",
      "-1\tWilliam Shatner in small doses is tolerable. Unfortunately, instead of leaving his character as a minor irritation, and in that moderately amusing, it has been seen fit to enlarge his role and overdo it. Just as occurred in the original Star Trek series. I guess I will never understand American humour, which frequently goes 'over the top' to get the message through. I vote with my feet. I no longer watch the show, which is a shame, because the rest of the cast were good. It is pity that Shatner's overdone role also, affects James Spader's performance. But the majority demonstrate the way society is going, I guess. I don't travel the same routes. Frank #EOF\n",
      "\n",
      "-1\tThis movie is terrible. TERRIBLE. One of the worst movies ever. I cannot even imagine Gigli being worse that this. Previews made us say \"NO\", but then looking for something amid the dreck out there right now, we decided to go ahead and give it a shot.<br /><br />STUPID US.<br /><br />Affleck is NOT an actor. He's an image and can look good with explosions, but not even the kind Bruce Willis got in \"Die Hard\". If he stripped his shirt and ran around fighting bad guys, it would be a comedy.<br /><br />The best part was Catherine O'Hara -- she's always good. Gandolfini flops again (if it weren't for The Sopranos, he'd be washed up) like he did in \"The Mexican\".<br /><br />Affleck hogs every scene and as others have said -- no character has any motivation whatsoever for their actions. <br /><br />AVOID THIS MOVIE AT ALL COSTS. #EOF\n",
      "\n"
     ]
    }
   ],
   "source": [
    "with open(\"Train.txt\") as f:\n",
    "    for _ in range(10):\n",
    "        print(f.readline())"
   ]
  },
  {
   "cell_type": "code",
   "execution_count": 5,
   "id": "fa91ee85-1b46-420e-81de-42a038b8f6e3",
   "metadata": {},
   "outputs": [],
   "source": [
    "def preprocess_text(text):\n",
    "    text = re.sub(r'<br\\s*/?>', ' ', text)\n",
    "    text = text.lower()\n",
    "    text = re.sub(r\"[^a-zA-Z0-9\\s']\", '', text)\n",
    "    lemmatizer = WordNetLemmatizer()\n",
    "    word_tokens = word_tokenize(text)\n",
    "    lemmas = [lemmatizer.lemmatize(word) for word in word_tokens]\n",
    "    return lemmas\n",
    "    # Step 4: Tokenize the text\n",
    "    #tokens = word_tokenize(text)\n",
    "    \n",
    "    # Step 5: Remove stopwords"
   ]
  },
  {
   "cell_type": "code",
   "execution_count": 6,
   "id": "89a3db19-7ea6-4156-ab44-42772820a87c",
   "metadata": {},
   "outputs": [],
   "source": [
    "def process_reviews_from_file(file):\n",
    "    preprocessed_data = []\n",
    "    \n",
    "    with open(file, 'r', encoding='utf-8') as file:\n",
    "        for line in file:\n",
    "            if line.strip():  # Skip empty lines\n",
    "                # The label is at the beginning (+1 or -1), followed by the review text\n",
    "                label = int(line[0:2].strip())\n",
    "                review = line[2:].strip()\n",
    "\n",
    "                # Preprocess the review text\n",
    "                tokens = preprocess_text(review)\n",
    "\n",
    "                # Append the result to the list\n",
    "                preprocessed_data.append({'ratings': label, 'reviews': tokens})\n",
    "    return preprocessed_data"
   ]
  },
  {
   "cell_type": "code",
   "execution_count": 7,
   "id": "3f9b12f4-b9b7-4fbe-8792-52818fef3865",
   "metadata": {},
   "outputs": [],
   "source": [
    "data = process_reviews_from_file(file)"
   ]
  },
  {
   "cell_type": "code",
   "execution_count": 8,
   "id": "d7b6e40b-df84-477c-aa7a-6c2d4bf94d47",
   "metadata": {},
   "outputs": [
    {
     "data": {
      "text/plain": [
       "{'ratings': 1,\n",
       " 'reviews': \"thing to come is indeed a classic work of speculative fiction both an essay on the destructive nature of war and the terror of progress it make some surprising accurate depiction of the war that wa to follow a few year later but is woefully naive in it 's utopian ideal raymond massey cedric hardwicke and ralph richardson make up a fine cast although the drama is played more a a stage piece than a work of cinema there are grandiose if somewhat stilted speech often delivered a if the actor is trying to reach the back of the theater however there are some profound word there is technology the savior of mankind or the instrument of it destruction the film is a visual feast if one can detach oneself from the age of the effect sure hollywood is more sophisticated today but rarely a inventive for the imaginative the third act is a treat a world with underground city massive deco bomber space cannon gyro copters and secret organization of scientist savior it ha all of the making of a scifi pulp adventure but instead us the trapping for a philosophical exercise thing to come and metropolis were the hallmark of neolithic hollywood science fiction cinema they are operatic in scope and visually inspiring technology ha long left them behind but their idea still burst forth there is an artistry there one with more heart and emotion than the computer generated massproduced cinema of today these film are the product of artisan not industrialist\"}"
      ]
     },
     "execution_count": 8,
     "metadata": {},
     "output_type": "execute_result"
    }
   ],
   "source": [
    "def remove_eof(data):\n",
    "    for item in data:  # Iterate over each dictionary in the list\n",
    "        if 'reviews' in item:  # Check if 'reviews' key exists\n",
    "            if isinstance(item['reviews'], list):\n",
    "                # Join list into a single string\n",
    "                item['reviews'] = ' '.join(item['reviews'])\n",
    "            item['reviews'] = item['reviews'].replace(' eof', '')   # Remove \"eof\" with a preceding space for safety\n",
    "\n",
    "# Call the function\n",
    "remove_eof(data)   \n",
    "data[5]"
   ]
  },
  {
   "cell_type": "code",
   "execution_count": 9,
   "id": "594bf79f-2388-4b8d-aeff-16508962a7db",
   "metadata": {},
   "outputs": [
    {
     "data": {
      "text/html": [
       "<div>\n",
       "<style scoped>\n",
       "    .dataframe tbody tr th:only-of-type {\n",
       "        vertical-align: middle;\n",
       "    }\n",
       "\n",
       "    .dataframe tbody tr th {\n",
       "        vertical-align: top;\n",
       "    }\n",
       "\n",
       "    .dataframe thead th {\n",
       "        text-align: right;\n",
       "    }\n",
       "</style>\n",
       "<table border=\"1\" class=\"dataframe\">\n",
       "  <thead>\n",
       "    <tr style=\"text-align: right;\">\n",
       "      <th></th>\n",
       "      <th>ratings</th>\n",
       "      <th>reviews</th>\n",
       "    </tr>\n",
       "  </thead>\n",
       "  <tbody>\n",
       "    <tr>\n",
       "      <th>0</th>\n",
       "      <td>1</td>\n",
       "      <td>one of my alltime favorite solaughablylousytha...</td>\n",
       "    </tr>\n",
       "    <tr>\n",
       "      <th>1</th>\n",
       "      <td>-1</td>\n",
       "      <td>i had high hope for this film because i though...</td>\n",
       "    </tr>\n",
       "    <tr>\n",
       "      <th>2</th>\n",
       "      <td>-1</td>\n",
       "      <td>when this wa released i thought this wa one of...</td>\n",
       "    </tr>\n",
       "    <tr>\n",
       "      <th>3</th>\n",
       "      <td>-1</td>\n",
       "      <td>i just watched this movie on starz let me go t...</td>\n",
       "    </tr>\n",
       "    <tr>\n",
       "      <th>4</th>\n",
       "      <td>1</td>\n",
       "      <td>i loved it so much that i bought the dvd and t...</td>\n",
       "    </tr>\n",
       "  </tbody>\n",
       "</table>\n",
       "</div>"
      ],
      "text/plain": [
       "   ratings                                            reviews\n",
       "0        1  one of my alltime favorite solaughablylousytha...\n",
       "1       -1  i had high hope for this film because i though...\n",
       "2       -1  when this wa released i thought this wa one of...\n",
       "3       -1  i just watched this movie on starz let me go t...\n",
       "4        1  i loved it so much that i bought the dvd and t..."
      ]
     },
     "execution_count": 9,
     "metadata": {},
     "output_type": "execute_result"
    }
   ],
   "source": [
    "df = pd.DataFrame(data)\n",
    "df.head()"
   ]
  },
  {
   "cell_type": "code",
   "execution_count": 10,
   "id": "a6df43e8-4387-4d84-aaf2-fd95bc2e903e",
   "metadata": {},
   "outputs": [],
   "source": [
    "tfidf_vectorizer = TfidfVectorizer(max_features=10000)\n",
    "X = tfidf_vectorizer.fit_transform(df['reviews']).toarray()\n",
    "y = df['ratings'].values"
   ]
  },
  {
   "cell_type": "code",
   "execution_count": 11,
   "id": "acfe26e9-2a2d-4a6f-a1a5-30adf58114ba",
   "metadata": {},
   "outputs": [
    {
     "data": {
      "text/plain": [
       "dtype('float64')"
      ]
     },
     "execution_count": 11,
     "metadata": {},
     "output_type": "execute_result"
    }
   ],
   "source": [
    "X.dtype"
   ]
  },
  {
   "cell_type": "code",
   "execution_count": 12,
   "id": "1dbed2dd-5146-4c70-b978-59c0fe3f02d7",
   "metadata": {},
   "outputs": [],
   "source": [
    "dense_X = X\n",
    "non_zero_elements = dense_X[0][dense_X[0] != 0]  # Access row and filter"
   ]
  },
  {
   "cell_type": "code",
   "execution_count": 13,
   "id": "a00e9f84-c7f9-4345-9c5a-5912366f241b",
   "metadata": {},
   "outputs": [
    {
     "name": "stdout",
     "output_type": "stream",
     "text": [
      "[0.04842483 0.04648373 0.07262387 0.06985938 0.06592051 0.0254776\n",
      " 0.06097522 0.04979097 0.05708388 0.06404674 0.05768335 0.03429432\n",
      " 0.17568621 0.04778775 0.06404674 0.03139937 0.07002167 0.05120252\n",
      " 0.03316456 0.0463607  0.06124317 0.04809211 0.0285829  0.02940626\n",
      " 0.02584253 0.02688931 0.05001044 0.05578478 0.05749503 0.05832115\n",
      " 0.05147943 0.05274645 0.05602337 0.07556614 0.04184129 0.05797266\n",
      " 0.03045471 0.06469687 0.04563854 0.02108971 0.06224206 0.05014352\n",
      " 0.06893744 0.07646052 0.02698975 0.09063357 0.0552493  0.05415686\n",
      " 0.03715768 0.0643202  0.04898536 0.06636416 0.06625139 0.02293858\n",
      " 0.06224206 0.04357774 0.03434742 0.06045998 0.05773099 0.0573102\n",
      " 0.04769997 0.05127728 0.06124317 0.05140314 0.07241374 0.04201777\n",
      " 0.04516649 0.07398697 0.07710465 0.12882608 0.0597338  0.05582415\n",
      " 0.05402422 0.07556614 0.05449636 0.06232479 0.05717379 0.06369341\n",
      " 0.0393514  0.05787529 0.06938777 0.07002167 0.07779324 0.03431536\n",
      " 0.05712873 0.04628457 0.02663195 0.05927747 0.0643202  0.03851648\n",
      " 0.04003296 0.04050614 0.03126291 0.07779324 0.02370898 0.07853288\n",
      " 0.07161487 0.07744301 0.0400647  0.01756592 0.07585545 0.038454\n",
      " 0.07556614 0.06682846 0.02103155 0.07328217 0.07241374 0.06518862\n",
      " 0.06077888 0.0744861  0.06270279 0.06201944 0.02191118 0.06908531\n",
      " 0.0154798  0.03801395 0.06310367 0.07241374 0.06647823 0.07528498\n",
      " 0.018491   0.06822931 0.03493788 0.04358931 0.03881338 0.06201944\n",
      " 0.05043809 0.05629772 0.07556614 0.05502831 0.06850656 0.07744301\n",
      " 0.05626781 0.07067541 0.07585545 0.04409288 0.07694263 0.07556614\n",
      " 0.04356618 0.11855493 0.04922683 0.07270453 0.0421472  0.03520538\n",
      " 0.06659361 0.02640587 0.04440943 0.0419667  0.04705693 0.04676621\n",
      " 0.06879174 0.0944777  0.02012786 0.06850656 0.05165973 0.05293322\n",
      " 0.02263896 0.07328217 0.04249045 0.05200346 0.05582415 0.06158856\n",
      " 0.07556614 0.05076535 0.0557065  0.1155515  0.02747308 0.05874376\n",
      " 0.04699728 0.07190224 0.01872408 0.06065009 0.0393514  0.05513819\n",
      " 0.05686257 0.0643202  0.0425772  0.02957827 0.05016587 0.03779776\n",
      " 0.03026706 0.05320257 0.07677739 0.05150499 0.05837194 0.07002167\n",
      " 0.05536165 0.05777886 0.06045998 0.06908531 0.04336039 0.05681889\n",
      " 0.06602959 0.06318581 0.06539231 0.04626941 0.08729474 0.0744861\n",
      " 0.05481212 0.05817031 0.03203628 0.05566759 0.0234486  0.0534794\n",
      " 0.03515432 0.06864813 0.03559142 0.03976104 0.07262387 0.06836697\n",
      " 0.05916657 0.11844373 0.03305031 0.05699476 0.07528498 0.05319092\n",
      " 0.0497495  0.0375166  0.07585545 0.064989   0.07474535 0.03324964\n",
      " 0.05373209 0.02730407 0.04165833 0.03932871 0.06058632 0.063607\n",
      " 0.07501152 0.02722287 0.07351162 0.05222103 0.04538585 0.02257248\n",
      " 0.0361799  0.26168376 0.04323668 0.02497378 0.07305788 0.02803935\n",
      " 0.02420779 0.02197212 0.05296279 0.06097522 0.03972167 0.07744301\n",
      " 0.09553974 0.02485613 0.0675681  0.04314767 0.06231739 0.02638106\n",
      " 0.06923539 0.0761534  0.08428599 0.04805582 0.06441304 0.01419969\n",
      " 0.09874089 0.04713874 0.02281361 0.08070611 0.02658548 0.04402125\n",
      " 0.05620588 0.04914569 0.04073723 0.07779324 0.05389333 0.05382852\n",
      " 0.03779776 0.06187373 0.03408487 0.01608734 0.03218658]\n"
     ]
    }
   ],
   "source": [
    "non_zero_elements = dense_X[0][dense_X[0] != 0]  # Filters the first row for non-zero elements.\n",
    "print(non_zero_elements)"
   ]
  },
  {
   "cell_type": "code",
   "execution_count": 19,
   "id": "f2ddbbe8-7d14-41ba-b737-fdf1ed884a60",
   "metadata": {},
   "outputs": [],
   "source": [
    "import numpy as np\n",
    "from sklearn.model_selection import train_test_split\n",
    "from collections import Counter\n",
    "from concurrent.futures import ThreadPoolExecutor\n",
    "\n",
    "class CustomKNN:\n",
    "    def __init__(self, k=3, distance_metric='euclidean'):\n",
    "        self.k = k\n",
    "        self.distance_metric = distance_metric\n",
    "\n",
    "    def fit(self, X_train, y_train):\n",
    "        self.X_train = X_train\n",
    "        self.y_train = y_train\n",
    "\n",
    "    def predict(self, X_test):\n",
    "         with ThreadPoolExecutor() as executor:\n",
    "            # Use a thread pool to predict each instance in parallel\n",
    "            predictions = list(executor.map(self._predict, X_test))\n",
    "         return np.array(predictions)\n",
    "\n",
    "    def _predict(self, x):\n",
    "        if self.distance_metric == 'euclidean':\n",
    "            with ThreadPoolExecutor() as executor:\n",
    "                distances = list(executor.map(self._euclidean_distance, [x] * len(self.X_train), self.X_train))\n",
    "        elif self.distance_metric == 'cosine':\n",
    "             with ThreadPoolExecutor() as executor:\n",
    "                distances = list(executor.map(self._cosine_similarity, [x] * len(self.X_train), self.X_train))\n",
    "        else:\n",
    "            raise ValueError(f\"Unsupported distance metric: {self.distance_metric}\")\n",
    "\n",
    "        k_indices = np.argsort(distances)[:self.k]\n",
    "        k_nearest_labels = [self.y_train[i] for i in k_indices]\n",
    "\n",
    "        most_common = Counter(k_nearest_labels).most_common(1)\n",
    "        return most_common[0][0]\n",
    "\n",
    "    def _euclidean_distance(self, x1, x2):\n",
    "        return np.sqrt(np.sum((x1 - x2) ** 2))\n",
    "\n",
    "    def _cosine_similarity(self, x1, x2):\n",
    "        return -np.dot(x1, x2) / (np.linalg.norm(x1) * np.linalg.norm(x2))"
   ]
  },
  {
   "cell_type": "code",
   "execution_count": 20,
   "id": "792b6e4d-0e9b-482e-b486-75cba3af6b68",
   "metadata": {},
   "outputs": [],
   "source": [
    "def k_fold_cross_validation(X, y, k, num_folds=5):\n",
    "    fold_size = len(X) // num_folds\n",
    "    accuracies = []\n",
    "\n",
    "    for fold in range(num_folds):\n",
    "        # Create the training and validation sets\n",
    "        start, end = fold * fold_size, (fold + 1) * fold_size\n",
    "        X_val = X[start:end]\n",
    "        y_val = y[start:end]\n",
    "        X_train = np.concatenate((X[:start], X[end:]), axis=0)\n",
    "        y_train = np.concatenate((y[:start], y[end:]), axis=0)\n",
    "        knn = CustomKNN(k=k, distance_metric='euclidean')\n",
    "        knn.fit(X_train, y_train)\n",
    "\n",
    "        y_pred = knn.predict(X_val)\n",
    "       \n",
    "        accuracy = np.mean(y_pred == y_val)\n",
    "        accuracies.append(accuracy)\n",
    "\n",
    "    return np.mean(accuracies)"
   ]
  },
  {
   "cell_type": "code",
   "execution_count": null,
   "id": "0eb68746-90ef-4f52-9ec2-614e1c4bf54e",
   "metadata": {},
   "outputs": [],
   "source": [
    "k_fold_cross_validation(X, y, k=5, num_folds=3)"
   ]
  },
  {
   "cell_type": "code",
   "execution_count": null,
   "id": "b7c3f20c-875f-4b5d-9d86-5a84b6be3291",
   "metadata": {},
   "outputs": [],
   "source": []
  }
 ],
 "metadata": {
  "kernelspec": {
   "display_name": "Python 3 (ipykernel)",
   "language": "python",
   "name": "python3"
  },
  "language_info": {
   "codemirror_mode": {
    "name": "ipython",
    "version": 3
   },
   "file_extension": ".py",
   "mimetype": "text/x-python",
   "name": "python",
   "nbconvert_exporter": "python",
   "pygments_lexer": "ipython3",
   "version": "3.8.19"
  }
 },
 "nbformat": 4,
 "nbformat_minor": 5
}
