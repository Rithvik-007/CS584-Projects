{
 "cells": [
  {
   "cell_type": "markdown",
   "id": "2f4c74ab-5b9c-4672-8fd3-d5fa1e5cf230",
   "metadata": {},
   "source": [
    "# Understanding the Problem Statement:\n",
    "The goal is to predict whether a given molecule is active (1) or inactive (0) by using data-driven techniques, specifically binary classification models. In drug discovery, identifying whether a molecule binds to a specific receptor is a crucial step since binding generally indicates the molecule may be a good candidate for a drug.\n",
    "\n",
    "## Overview and Assignment Goals\n",
    "The objectives of this assignment are the following: \n",
    "\n",
    "* Use/implement a feature selection/reduction technique.\n",
    "* Experiment with various classification models.\n",
    "* Think about dealing with imbalanced data.\n",
    "* Use F1 Scoring Metric\n",
    "\n",
    "#### The dataset has an imbalanced distribution i.e., within the training set there are only 78 actives (+1) and 722 inactives (0). No information is provided for the test set regarding the distribution.\n",
    "\n",
    "## Data Description\n",
    "\n",
    "The training dataset consists of 800 records and the test dataset consists of 350 records. We provide you with the training class labels and the test labels are held out. The attributes are binary type and as such are presented in a sparse matrix format within train.dat and test.dat\n",
    "\n",
    "**Train data:** Training set (a sparse binary matrix, patterns in lines, features in columns: the index of the non-zero features are provided with class label 1 or 0 in the first column).\n",
    "\n",
    "**Test data:** Testing set (a sparse binary matrix, patterns in lines, features in columns: the index of non-zero features are provided).\n",
    "\n",
    "**Format example:** A sample submission with 350 entries randomly chosen to be 0 or 1."
   ]
  },
  {
   "cell_type": "code",
   "execution_count": 1,
   "id": "ab479b62-52e4-4b81-956d-54e2d24a9d42",
   "metadata": {},
   "outputs": [],
   "source": [
    "import numpy as np\n",
    "import pandas as pd\n",
    "import re\n",
    "from sklearn.model_selection import train_test_split\n",
    "from sklearn.tree import DecisionTreeClassifier\n",
    "from sklearn.naive_bayes import GaussianNB \n",
    "from sklearn.metrics import f1_score\n",
    "from imblearn.over_sampling import SMOTE\n",
    "from sklearn.decomposition import PCA\n",
    "from sklearn.preprocessing import StandardScaler\n",
    "import math"
   ]
  },
  {
   "cell_type": "code",
   "execution_count": 2,
   "id": "c227886d-b7b4-4857-bf3a-e7641b9db9e2",
   "metadata": {},
   "outputs": [],
   "source": [
    "# Initialize a list to store the processed data\n",
    "data = []\n",
    "with open(\"train_data.txt\", 'r') as file:\n",
    "    for line in file:\n",
    "        # Skip empty lines\n",
    "        if line.strip():\n",
    "            # Replace any tabs with spaces and remove the trailing newline\n",
    "            clean_line = re.sub(r'\\t+', ' ', line).strip()\n",
    "\n",
    "            # Extract the label (first character as an integer)\n",
    "            label = int(clean_line[0])\n",
    "\n",
    "            # Extract the features (rest of the line as a list of integers)\n",
    "            features = [int(f) for f in clean_line[2:].strip().split()]\n",
    "\n",
    "            # Append the label and features as a tuple to the data list \n",
    "            data.append((label, features))"
   ]
  },
  {
   "cell_type": "code",
   "execution_count": 3,
   "id": "39c1ac08-471c-411f-805c-3eb8001474db",
   "metadata": {
    "scrolled": true
   },
   "outputs": [],
   "source": [
    "# # Print the processed data to verify\n",
    "# print(data[0])"
   ]
  },
  {
   "cell_type": "code",
   "execution_count": 4,
   "id": "d5a63a1e-d62b-426e-abb2-1b341fa29b07",
   "metadata": {},
   "outputs": [],
   "source": [
    "max_length = max(len(features) for _, features in data)\n",
    "\n",
    "# Pad each feature list to the same length with zeros\n",
    "X = [features + [0] * (max_length - len(features)) for _, features in data]\n",
    "y = [label for label, _ in data]"
   ]
  },
  {
   "cell_type": "code",
   "execution_count": 46,
   "id": "3813018a-1d89-4187-98de-d6c480f92ba3",
   "metadata": {},
   "outputs": [],
   "source": [
    "def apply_smote_and_scaling(X, y):\n",
    "    \"\"\"\n",
    "    Apply SMOTE to handle class imbalance and standardize the features.\n",
    "    \n",
    "    Parameters:\n",
    "    - X: List or array-like, feature matrix.\n",
    "    - y: List or array-like, class labels.\n",
    "\n",
    "    Returns:\n",
    "    - X_scaled: Scaled feature matrix after applying SMOTE.\n",
    "    - y_resampled: Resampled class labels.\n",
    "    \"\"\"\n",
    "    # Apply SMOTE to handle class imbalance\n",
    "    smote = SMOTE(random_state=42)\n",
    "    X_resampled, y_resampled = smote.fit_resample(X, y)\n",
    "\n",
    "    print(f\"Original dataset size: {len(y)}\")\n",
    "    print(f\"Resampled dataset size: {len(y_resampled)}\")\n",
    "\n",
    "    # Standardize the resampled data\n",
    "    scaler = StandardScaler()\n",
    "    X_scaled = scaler.fit_transform(X_resampled)\n",
    "\n",
    "    return X_scaled, y_resampled"
   ]
  },
  {
   "cell_type": "code",
   "execution_count": 47,
   "id": "fccbff53-0574-4a91-949b-e0ad907e22ab",
   "metadata": {},
   "outputs": [],
   "source": [
    "def apply_pca(X, n_components=10):\n",
    "    \"\"\"\n",
    "    Apply PCA to reduce the dimensionality of the feature matrix.\n",
    "\n",
    "    Parameters:\n",
    "    - X: Scaled feature matrix.\n",
    "    - n_components: Number of principal components to keep.\n",
    "\n",
    "    Returns:\n",
    "    - X_pca: Feature matrix transformed with PCA.\n",
    "    \"\"\"\n",
    "    # Apply PCA to reduce dimensionality\n",
    "    pca = PCA(n_components=n_components)\n",
    "    X_pca = pca.fit_transform(X)\n",
    "\n",
    "    print(f\"Original shape: {np.array(X).shape}\")\n",
    "    print(f\"Transformed shape after PCA: {X_pca.shape}\")\n",
    "\n",
    "    return X_pca"
   ]
  },
  {
   "cell_type": "code",
   "execution_count": 50,
   "id": "f2ab3e18-6667-4176-8193-a992fb67d33a",
   "metadata": {},
   "outputs": [
    {
     "name": "stdout",
     "output_type": "stream",
     "text": [
      "Original dataset size: 800\n",
      "Resampled dataset size: 1444\n",
      "Original shape: (1444, 5524)\n",
      "Transformed shape after PCA: (1444, 10)\n"
     ]
    }
   ],
   "source": [
    "X_scaled, y_resampled = apply_smote_and_scaling(X, y)  # SMOTE + Scaling\n",
    "\n",
    "# Now apply PCA on the scaled data\n",
    "X_pca = apply_pca(X_scaled, n_components=10) "
   ]
  },
  {
   "cell_type": "code",
   "execution_count": 67,
   "id": "2bfcaed6-05af-4eb5-8e99-7982ca298763",
   "metadata": {
    "scrolled": true
   },
   "outputs": [
    {
     "name": "stdout",
     "output_type": "stream",
     "text": [
      "[-17.5419025   17.38961821  14.61090672  -3.14487021   7.00768512\n",
      "  -7.61589003   4.83356008  -4.45498751  -3.43370548  -0.88359672] [96, 183, 367, 379, 387, 1041, 1117, 1176, 1327, 1546, 1862, 2068, 2357, 2369, 2389, 2904, 3171, 3172, 3221, 3269, 3341, 3596, 3794, 3832, 3888, 3892, 4093, 4128, 4143, 4265, 4319, 4436, 4782, 5002, 5060, 5203, 5296, 5710, 5783, 5841, 6163, 6356, 6499, 6950, 7221, 7286, 7411, 7510, 7539, 7626, 7788, 7904, 7982, 8057, 9007, 9188, 9350, 9427, 9589, 9680, 9700, 9873, 9900, 9953, 10118, 10141, 10276, 10295, 10469, 10489, 10506, 10575, 10690, 10880, 10944, 11599, 11835, 12138, 12208, 12335, 12533, 12535, 12786, 12836, 12907, 12930, 12956, 13028, 13161, 13611, 13650, 13682, 13985, 14252, 14256, 14403, 14435, 14477, 14621, 14652, 14941, 15141, 15170, 15196, 15422, 15742, 15867, 15869, 16021, 16391, 16465, 16487, 16628, 16631, 16643, 16870, 17077, 17349, 17389, 17616, 17717, 17740, 18175, 18270, 18357, 18645, 18770, 18922, 18960, 18976, 19102, 19199, 19449, 19470, 19671, 19802, 19943, 19959, 20244, 20305, 20342, 20408, 20549, 20606, 20967, 21109, 21144, 21156, 21209, 21250, 21578, 21888, 21896, 21976, 22205, 22290, 22298, 22318, 22368, 22476, 22565, 22615, 22662, 22884, 22898, 22951, 23068, 23377, 23384, 23400, 23507, 23518, 23596, 23823, 23918, 24030, 24103, 24139, 24324, 24651, 24931, 25184, 25196, 25435, 25495, 25660, 25672, 25781, 25919, 26044, 26058, 26086, 26135, 26213, 26226, 26543, 26835, 27151, 27492, 27664, 27762, 27837, 27852, 28074, 28469, 28526, 28771, 28782, 28978, 29015, 29170, 29404, 29603, 29831, 29866, 30016, 30075, 30099, 30457, 30505, 30552, 30717, 30763, 30841, 31093, 31112, 31126, 31379, 31430, 31537, 31745, 31780, 31870, 31955, 32123, 32157, 32303, 32504, 32516, 32519, 32717, 32799, 32882, 32958, 33159, 33163, 33507, 33631, 33635, 33671, 33931, 34010, 34183, 34551, 34698, 34945, 34991, 35023, 35024, 35108, 35273, 35276, 35300, 35585, 35860, 35992, 36493, 36519, 36911, 37199, 37248, 37538, 37633, 37858, 38051, 38111, 38264, 38346, 39005, 39431, 39439, 39474, 39537, 39730, 39853, 39906, 40329, 40439, 40466, 40488, 40495, 40524, 40571, 40621, 40808, 40853, 40888, 40985, 41172, 41265, 41496, 41523, 41573, 41684, 41759, 41918, 42170, 42417, 42650, 42684, 42692, 42844, 43009, 43217, 43622, 43903, 43979, 44080, 44112, 44204, 44260, 44321, 44379, 44657, 44812, 45106, 45242, 45505, 45603, 45666, 45795, 45814, 45824, 45953, 45960, 46011, 46026, 46050, 46500, 46566, 46681, 46734, 46772, 46884, 46962, 47320, 47541, 47569, 47629, 47644, 47796, 47831, 47907, 47990, 48045, 48088, 48357, 48620, 48680, 48687, 48764, 48804, 48984, 49103, 49191, 49382, 49927, 49995, 50314, 50415, 50485, 50654, 50841, 50934, 51078, 51119, 51204, 51319, 51339, 51368, 51863, 51938, 52275, 52355, 52468, 53062, 53262, 53577, 53810, 53929, 54040, 54157, 54225, 54266, 54415, 54420, 54765, 55191, 55766, 55788, 55797, 55897, 56012, 56079, 56149, 56213, 56589, 56672, 56942, 57719, 57823, 57941, 58296, 58755, 58821, 58836, 58900, 58948, 58980, 58992, 59042, 59569, 59617, 59677, 60030, 60054, 60319, 60348, 60529, 60555, 60563, 60743, 61019, 61191, 61261, 61424, 61564, 61628, 61863, 61886, 61991, 62152, 62271, 62452, 62462, 62633, 62848, 62905, 62945, 63108, 63268, 63296, 63445, 63499, 63529, 63644, 63760, 63814, 64184, 64297, 64363, 64401, 64545, 64652, 64830, 65212, 65318, 65332, 65419, 65519, 65698, 65751, 65916, 65938, 66172, 66275, 66502, 66649, 66697, 66752, 66860, 67068, 67145, 67217, 67362, 67365, 67499, 67612, 67675, 68336, 68557, 68627, 68656, 68751, 69060, 69223, 69385, 69389, 69406, 69754, 69916, 70022, 70161, 70304, 70429, 70487, 70506, 70582, 70764, 70858, 70943, 71283, 71289, 71308, 71315, 71457, 71638, 71787, 71963, 72029, 72229, 72492, 72581, 72781, 72849, 73070, 73101, 73110, 73172, 73292, 73821, 73842, 74020, 74326, 74454, 74466, 74688, 74892, 75148, 75149, 75289, 75369, 75657, 75915, 75952, 76056, 76064, 76190, 76327, 76558, 76785, 76871, 77018, 77085, 77369, 77535, 77572, 78059, 78157, 78174, 78293, 78346, 78444, 78538, 78581, 78851, 78989, 78994, 79209, 79377, 79507, 79921, 80109, 80140, 80377, 80588, 80668, 80701, 80815, 80844, 80914, 81109, 81124, 81130, 81162, 81276, 81281, 81291, 81442, 81489, 81588, 81591, 81820, 82101, 82320, 82670, 82816, 82855, 83203, 83257, 83347, 83481, 83725, 83740, 83902, 84067, 84256, 84298, 84397, 84464, 84497, 84574, 84622, 84699, 84901, 85126, 85545, 85630, 85851, 86051, 86057, 86175, 86242, 86391, 86459, 86502, 86540, 86599, 86617, 86666, 86678, 86684, 86720, 87020, 87111, 87221, 87230, 87302, 87306, 87394, 87509, 87622, 87660, 87789, 87809, 87870, 88066, 88082, 88281, 89231, 89603, 89624, 89892, 90088, 90168, 90169, 90209, 90220, 90416, 90461, 90528, 90618, 90774, 90781, 90910, 91151, 91346, 91432, 91452, 91604, 91753, 91781, 92000, 92027, 92229, 92259, 92521, 92604, 92655, 92708, 92725, 92897, 92983, 93029, 93048, 93107, 93149, 93293, 93298, 93420, 93439, 93561, 94153, 94316, 94592, 94715, 94741, 95034, 95181, 95284, 95326, 95519, 95563, 95891, 95931, 95977, 96005, 96628, 97171, 97224, 97346, 97454, 97697, 97768, 97809, 97847, 97907, 97935, 98120, 98138, 98332, 98545, 98604, 98975, 99019, 99296, 99456, 99477, 99606, 99757, 99832, 99875, 0, 0, 0, 0, 0, 0, 0, 0, 0, 0, 0, 0, 0, 0, 0, 0, 0, 0, 0, 0, 0, 0, 0, 0, 0, 0, 0, 0, 0, 0, 0, 0, 0, 0, 0, 0, 0, 0, 0, 0, 0, 0, 0, 0, 0, 0, 0, 0, 0, 0, 0, 0, 0, 0, 0, 0, 0, 0, 0, 0, 0, 0, 0, 0, 0, 0, 0, 0, 0, 0, 0, 0, 0, 0, 0, 0, 0, 0, 0, 0, 0, 0, 0, 0, 0, 0, 0, 0, 0, 0, 0, 0, 0, 0, 0, 0, 0, 0, 0, 0, 0, 0, 0, 0, 0, 0, 0, 0, 0, 0, 0, 0, 0, 0, 0, 0, 0, 0, 0, 0, 0, 0, 0, 0, 0, 0, 0, 0, 0, 0, 0, 0, 0, 0, 0, 0, 0, 0, 0, 0, 0, 0, 0, 0, 0, 0, 0, 0, 0, 0, 0, 0, 0, 0, 0, 0, 0, 0, 0, 0, 0, 0, 0, 0, 0, 0, 0, 0, 0, 0, 0, 0, 0, 0, 0, 0, 0, 0, 0, 0, 0, 0, 0, 0, 0, 0, 0, 0, 0, 0, 0, 0, 0, 0, 0, 0, 0, 0, 0, 0, 0, 0, 0, 0, 0, 0, 0, 0, 0, 0, 0, 0, 0, 0, 0, 0, 0, 0, 0, 0, 0, 0, 0, 0, 0, 0, 0, 0, 0, 0, 0, 0, 0, 0, 0, 0, 0, 0, 0, 0, 0, 0, 0, 0, 0, 0, 0, 0, 0, 0, 0, 0, 0, 0, 0, 0, 0, 0, 0, 0, 0, 0, 0, 0, 0, 0, 0, 0, 0, 0, 0, 0, 0, 0, 0, 0, 0, 0, 0, 0, 0, 0, 0, 0, 0, 0, 0, 0, 0, 0, 0, 0, 0, 0, 0, 0, 0, 0, 0, 0, 0, 0, 0, 0, 0, 0, 0, 0, 0, 0, 0, 0, 0, 0, 0, 0, 0, 0, 0, 0, 0, 0, 0, 0, 0, 0, 0, 0, 0, 0, 0, 0, 0, 0, 0, 0, 0, 0, 0, 0, 0, 0, 0, 0, 0, 0, 0, 0, 0, 0, 0, 0, 0, 0, 0, 0, 0, 0, 0, 0, 0, 0, 0, 0, 0, 0, 0, 0, 0, 0, 0, 0, 0, 0, 0, 0, 0, 0, 0, 0, 0, 0, 0, 0, 0, 0, 0, 0, 0, 0, 0, 0, 0, 0, 0, 0, 0, 0, 0, 0, 0, 0, 0, 0, 0, 0, 0, 0, 0, 0, 0, 0, 0, 0, 0, 0, 0, 0, 0, 0, 0, 0, 0, 0, 0, 0, 0, 0, 0, 0, 0, 0, 0, 0, 0, 0, 0, 0, 0, 0, 0, 0, 0, 0, 0, 0, 0, 0, 0, 0, 0, 0, 0, 0, 0, 0, 0, 0, 0, 0, 0, 0, 0, 0, 0, 0, 0, 0, 0, 0, 0, 0, 0, 0, 0, 0, 0, 0, 0, 0, 0, 0, 0, 0, 0, 0, 0, 0, 0, 0, 0, 0, 0, 0, 0, 0, 0, 0, 0, 0, 0, 0, 0, 0, 0, 0, 0, 0, 0, 0, 0, 0, 0, 0, 0, 0, 0, 0, 0, 0, 0, 0, 0, 0, 0, 0, 0, 0, 0, 0, 0, 0, 0, 0, 0, 0, 0, 0, 0, 0, 0, 0, 0, 0, 0, 0, 0, 0, 0, 0, 0, 0, 0, 0, 0, 0, 0, 0, 0, 0, 0, 0, 0, 0, 0, 0, 0, 0, 0, 0, 0, 0, 0, 0, 0, 0, 0, 0, 0, 0, 0, 0, 0, 0, 0, 0, 0, 0, 0, 0, 0, 0, 0, 0, 0, 0, 0, 0, 0, 0, 0, 0, 0, 0, 0, 0, 0, 0, 0, 0, 0, 0, 0, 0, 0, 0, 0, 0, 0, 0, 0, 0, 0, 0, 0, 0, 0, 0, 0, 0, 0, 0, 0, 0, 0, 0, 0, 0, 0, 0, 0, 0, 0, 0, 0, 0, 0, 0, 0, 0, 0, 0, 0, 0, 0, 0, 0, 0, 0, 0, 0, 0, 0, 0, 0, 0, 0, 0, 0, 0, 0, 0, 0, 0, 0, 0, 0, 0, 0, 0, 0, 0, 0, 0, 0, 0, 0, 0, 0, 0, 0, 0, 0, 0, 0, 0, 0, 0, 0, 0, 0, 0, 0, 0, 0, 0, 0, 0, 0, 0, 0, 0, 0, 0, 0, 0, 0, 0, 0, 0, 0, 0, 0, 0, 0, 0, 0, 0, 0, 0, 0, 0, 0, 0, 0, 0, 0, 0, 0, 0, 0, 0, 0, 0, 0, 0, 0, 0, 0, 0, 0, 0, 0, 0, 0, 0, 0, 0, 0, 0, 0, 0, 0, 0, 0, 0, 0, 0, 0, 0, 0, 0, 0, 0, 0, 0, 0, 0, 0, 0, 0, 0, 0, 0, 0, 0, 0, 0, 0, 0, 0, 0, 0, 0, 0, 0, 0, 0, 0, 0, 0, 0, 0, 0, 0, 0, 0, 0, 0, 0, 0, 0, 0, 0, 0, 0, 0, 0, 0, 0, 0, 0, 0, 0, 0, 0, 0, 0, 0, 0, 0, 0, 0, 0, 0, 0, 0, 0, 0, 0, 0, 0, 0, 0, 0, 0, 0, 0, 0, 0, 0, 0, 0, 0, 0, 0, 0, 0, 0, 0, 0, 0, 0, 0, 0, 0, 0, 0, 0, 0, 0, 0, 0, 0, 0, 0, 0, 0, 0, 0, 0, 0, 0, 0, 0, 0, 0, 0, 0, 0, 0, 0, 0, 0, 0, 0, 0, 0, 0, 0, 0, 0, 0, 0, 0, 0, 0, 0, 0, 0, 0, 0, 0, 0, 0, 0, 0, 0, 0, 0, 0, 0, 0, 0, 0, 0, 0, 0, 0, 0, 0, 0, 0, 0, 0, 0, 0, 0, 0, 0, 0, 0, 0, 0, 0, 0, 0, 0, 0, 0, 0, 0, 0, 0, 0, 0, 0, 0, 0, 0, 0, 0, 0, 0, 0, 0, 0, 0, 0, 0, 0, 0, 0, 0, 0, 0, 0, 0, 0, 0, 0, 0, 0, 0, 0, 0, 0, 0, 0, 0, 0, 0, 0, 0, 0, 0, 0, 0, 0, 0, 0, 0, 0, 0, 0, 0, 0, 0, 0, 0, 0, 0, 0, 0, 0, 0, 0, 0, 0, 0, 0, 0, 0, 0, 0, 0, 0, 0, 0, 0, 0, 0, 0, 0, 0, 0, 0, 0, 0, 0, 0, 0, 0, 0, 0, 0, 0, 0, 0, 0, 0, 0, 0, 0, 0, 0, 0, 0, 0, 0, 0, 0, 0, 0, 0, 0, 0, 0, 0, 0, 0, 0, 0, 0, 0, 0, 0, 0, 0, 0, 0, 0, 0, 0, 0, 0, 0, 0, 0, 0, 0, 0, 0, 0, 0, 0, 0, 0, 0, 0, 0, 0, 0, 0, 0, 0, 0, 0, 0, 0, 0, 0, 0, 0, 0, 0, 0, 0, 0, 0, 0, 0, 0, 0, 0, 0, 0, 0, 0, 0, 0, 0, 0, 0, 0, 0, 0, 0, 0, 0, 0, 0, 0, 0, 0, 0, 0, 0, 0, 0, 0, 0, 0, 0, 0, 0, 0, 0, 0, 0, 0, 0, 0, 0, 0, 0, 0, 0, 0, 0, 0, 0, 0, 0, 0, 0, 0, 0, 0, 0, 0, 0, 0, 0, 0, 0, 0, 0, 0, 0, 0, 0, 0, 0, 0, 0, 0, 0, 0, 0, 0, 0, 0, 0, 0, 0, 0, 0, 0, 0, 0, 0, 0, 0, 0, 0, 0, 0, 0, 0, 0, 0, 0, 0, 0, 0, 0, 0, 0, 0, 0, 0, 0, 0, 0, 0, 0, 0, 0, 0, 0, 0, 0, 0, 0, 0, 0, 0, 0, 0, 0, 0, 0, 0, 0, 0, 0, 0, 0, 0, 0, 0, 0, 0, 0, 0, 0, 0, 0, 0, 0, 0, 0, 0, 0, 0, 0, 0, 0, 0, 0, 0, 0, 0, 0, 0, 0, 0, 0, 0, 0, 0, 0, 0, 0, 0, 0, 0, 0, 0, 0, 0, 0, 0, 0, 0, 0, 0, 0, 0, 0, 0, 0, 0, 0, 0, 0, 0, 0, 0, 0, 0, 0, 0, 0, 0, 0, 0, 0, 0, 0, 0, 0, 0, 0, 0, 0, 0, 0, 0, 0, 0, 0, 0, 0, 0, 0, 0, 0, 0, 0, 0, 0, 0, 0, 0, 0, 0, 0, 0, 0, 0, 0, 0, 0, 0, 0, 0, 0, 0, 0, 0, 0, 0, 0, 0, 0, 0, 0, 0, 0, 0, 0, 0, 0, 0, 0, 0, 0, 0, 0, 0, 0, 0, 0, 0, 0, 0, 0, 0, 0, 0, 0, 0, 0, 0, 0, 0, 0, 0, 0, 0, 0, 0, 0, 0, 0, 0, 0, 0, 0, 0, 0, 0, 0, 0, 0, 0, 0, 0, 0, 0, 0, 0, 0, 0, 0, 0, 0, 0, 0, 0, 0, 0, 0, 0, 0, 0, 0, 0, 0, 0, 0, 0, 0, 0, 0, 0, 0, 0, 0, 0, 0, 0, 0, 0, 0, 0, 0, 0, 0, 0, 0, 0, 0, 0, 0, 0, 0, 0, 0, 0, 0, 0, 0, 0, 0, 0, 0, 0, 0, 0, 0, 0, 0, 0, 0, 0, 0, 0, 0, 0, 0, 0, 0, 0, 0, 0, 0, 0, 0, 0, 0, 0, 0, 0, 0, 0, 0, 0, 0, 0, 0, 0, 0, 0, 0, 0, 0, 0, 0, 0, 0, 0, 0, 0, 0, 0, 0, 0, 0, 0, 0, 0, 0, 0, 0, 0, 0, 0, 0, 0, 0, 0, 0, 0, 0, 0, 0, 0, 0, 0, 0, 0, 0, 0, 0, 0, 0, 0, 0, 0, 0, 0, 0, 0, 0, 0, 0, 0, 0, 0, 0, 0, 0, 0, 0, 0, 0, 0, 0, 0, 0, 0, 0, 0, 0, 0, 0, 0, 0, 0, 0, 0, 0, 0, 0, 0, 0, 0, 0, 0, 0, 0, 0, 0, 0, 0, 0, 0, 0, 0, 0, 0, 0, 0, 0, 0, 0, 0, 0, 0, 0, 0, 0, 0, 0, 0, 0, 0, 0, 0, 0, 0, 0, 0, 0, 0, 0, 0, 0, 0, 0, 0, 0, 0, 0, 0, 0, 0, 0, 0, 0, 0, 0, 0, 0, 0, 0, 0, 0, 0, 0, 0, 0, 0, 0, 0, 0, 0, 0, 0, 0, 0, 0, 0, 0, 0, 0, 0, 0, 0, 0, 0, 0, 0, 0, 0, 0, 0, 0, 0, 0, 0, 0, 0, 0, 0, 0, 0, 0, 0, 0, 0, 0, 0, 0, 0, 0, 0, 0, 0, 0, 0, 0, 0, 0, 0, 0, 0, 0, 0, 0, 0, 0, 0, 0, 0, 0, 0, 0, 0, 0, 0, 0, 0, 0, 0, 0, 0, 0, 0, 0, 0, 0, 0, 0, 0, 0, 0, 0, 0, 0, 0, 0, 0, 0, 0, 0, 0, 0, 0, 0, 0, 0, 0, 0, 0, 0, 0, 0, 0, 0, 0, 0, 0, 0, 0, 0, 0, 0, 0, 0, 0, 0, 0, 0, 0, 0, 0, 0, 0, 0, 0, 0, 0, 0, 0, 0, 0, 0, 0, 0, 0, 0, 0, 0, 0, 0, 0, 0, 0, 0, 0, 0, 0, 0, 0, 0, 0, 0, 0, 0, 0, 0, 0, 0, 0, 0, 0, 0, 0, 0, 0, 0, 0, 0, 0, 0, 0, 0, 0, 0, 0, 0, 0, 0, 0, 0, 0, 0, 0, 0, 0, 0, 0, 0, 0, 0, 0, 0, 0, 0, 0, 0, 0, 0, 0, 0, 0, 0, 0, 0, 0, 0, 0, 0, 0, 0, 0, 0, 0, 0, 0, 0, 0, 0, 0, 0, 0, 0, 0, 0, 0, 0, 0, 0, 0, 0, 0, 0, 0, 0, 0, 0, 0, 0, 0, 0, 0, 0, 0, 0, 0, 0, 0, 0, 0, 0, 0, 0, 0, 0, 0, 0, 0, 0, 0, 0, 0, 0, 0, 0, 0, 0, 0, 0, 0, 0, 0, 0, 0, 0, 0, 0, 0, 0, 0, 0, 0, 0, 0, 0, 0, 0, 0, 0, 0, 0, 0, 0, 0, 0, 0, 0, 0, 0, 0, 0, 0, 0, 0, 0, 0, 0, 0, 0, 0, 0, 0, 0, 0, 0, 0, 0, 0, 0, 0, 0, 0, 0, 0, 0, 0, 0, 0, 0, 0, 0, 0, 0, 0, 0, 0, 0, 0, 0, 0, 0, 0, 0, 0, 0, 0, 0, 0, 0, 0, 0, 0, 0, 0, 0, 0, 0, 0, 0, 0, 0, 0, 0, 0, 0, 0, 0, 0, 0, 0, 0, 0, 0, 0, 0, 0, 0, 0, 0, 0, 0, 0, 0, 0, 0, 0, 0, 0, 0, 0, 0, 0, 0, 0, 0, 0, 0, 0, 0, 0, 0, 0, 0, 0, 0, 0, 0, 0, 0, 0, 0, 0, 0, 0, 0, 0, 0, 0, 0, 0, 0, 0, 0, 0, 0, 0, 0, 0, 0, 0, 0, 0, 0, 0, 0, 0, 0, 0, 0, 0, 0, 0, 0, 0, 0, 0, 0, 0, 0, 0, 0, 0, 0, 0, 0, 0, 0, 0, 0, 0, 0, 0, 0, 0, 0, 0, 0, 0, 0, 0, 0, 0, 0, 0, 0, 0, 0, 0, 0, 0, 0, 0, 0, 0, 0, 0, 0, 0, 0, 0, 0, 0, 0, 0, 0, 0, 0, 0, 0, 0, 0, 0, 0, 0, 0, 0, 0, 0, 0, 0, 0, 0, 0, 0, 0, 0, 0, 0, 0, 0, 0, 0, 0, 0, 0, 0, 0, 0, 0, 0, 0, 0, 0, 0, 0, 0, 0, 0, 0, 0, 0, 0, 0, 0, 0, 0, 0, 0, 0, 0, 0, 0, 0, 0, 0, 0, 0, 0, 0, 0, 0, 0, 0, 0, 0, 0, 0, 0, 0, 0, 0, 0, 0, 0, 0, 0, 0, 0, 0, 0, 0, 0, 0, 0, 0, 0, 0, 0, 0, 0, 0, 0, 0, 0, 0, 0, 0, 0, 0, 0, 0, 0, 0, 0, 0, 0, 0, 0, 0, 0, 0, 0, 0, 0, 0, 0, 0, 0, 0, 0, 0, 0, 0, 0, 0, 0, 0, 0, 0, 0, 0, 0, 0, 0, 0, 0, 0, 0, 0, 0, 0, 0, 0, 0, 0, 0, 0, 0, 0, 0, 0, 0, 0, 0, 0, 0, 0, 0, 0, 0, 0, 0, 0, 0, 0, 0, 0, 0, 0, 0, 0, 0, 0, 0, 0, 0, 0, 0, 0, 0, 0, 0, 0, 0, 0, 0, 0, 0, 0, 0, 0, 0, 0, 0, 0, 0, 0, 0, 0, 0, 0, 0, 0, 0, 0, 0, 0, 0, 0, 0, 0, 0, 0, 0, 0, 0, 0, 0, 0, 0, 0, 0, 0, 0, 0, 0, 0, 0, 0, 0, 0, 0, 0, 0, 0, 0, 0, 0, 0, 0, 0, 0, 0, 0, 0, 0, 0, 0, 0, 0, 0, 0, 0, 0, 0, 0, 0, 0, 0, 0, 0, 0, 0, 0, 0, 0, 0, 0, 0, 0, 0, 0, 0, 0, 0, 0, 0, 0, 0, 0, 0, 0, 0, 0, 0, 0, 0, 0, 0, 0, 0, 0, 0, 0, 0, 0, 0, 0, 0, 0, 0, 0, 0, 0, 0, 0, 0, 0, 0, 0, 0, 0, 0, 0, 0, 0, 0, 0, 0, 0, 0, 0, 0, 0, 0, 0, 0, 0, 0, 0, 0, 0, 0, 0, 0, 0, 0, 0, 0, 0, 0, 0, 0, 0, 0, 0, 0, 0, 0, 0, 0, 0, 0, 0, 0, 0, 0, 0, 0, 0, 0, 0, 0, 0, 0, 0, 0, 0, 0, 0, 0, 0, 0, 0, 0, 0, 0, 0, 0, 0, 0, 0, 0, 0, 0, 0, 0, 0, 0, 0, 0, 0, 0, 0, 0, 0, 0, 0, 0, 0, 0, 0, 0, 0, 0, 0, 0, 0, 0, 0, 0, 0, 0, 0, 0, 0, 0, 0, 0, 0, 0, 0, 0, 0, 0, 0, 0, 0, 0, 0, 0, 0, 0, 0, 0, 0, 0, 0, 0, 0, 0, 0, 0, 0, 0, 0, 0, 0, 0, 0, 0, 0, 0, 0, 0, 0, 0, 0, 0, 0, 0, 0, 0, 0, 0, 0, 0, 0, 0, 0, 0, 0, 0, 0, 0, 0, 0, 0, 0, 0, 0, 0, 0, 0, 0, 0, 0, 0, 0, 0, 0, 0, 0, 0, 0, 0, 0, 0, 0, 0, 0, 0, 0, 0, 0, 0, 0, 0, 0, 0, 0, 0, 0, 0, 0, 0, 0, 0, 0, 0, 0, 0, 0, 0, 0, 0, 0, 0, 0, 0, 0, 0, 0, 0, 0, 0, 0, 0, 0, 0, 0, 0, 0, 0, 0, 0, 0, 0, 0, 0, 0, 0, 0, 0, 0, 0, 0, 0, 0, 0, 0, 0, 0, 0, 0, 0, 0, 0, 0, 0, 0, 0, 0, 0, 0, 0, 0, 0, 0, 0, 0, 0, 0, 0, 0, 0, 0, 0, 0, 0, 0, 0, 0, 0, 0, 0, 0, 0, 0, 0, 0, 0, 0, 0, 0, 0, 0, 0, 0, 0, 0, 0, 0, 0, 0, 0, 0, 0, 0, 0, 0, 0, 0, 0, 0, 0, 0, 0, 0, 0, 0, 0, 0, 0, 0, 0, 0, 0, 0, 0, 0, 0, 0, 0, 0, 0, 0, 0, 0, 0, 0, 0, 0, 0, 0, 0, 0, 0, 0, 0, 0, 0, 0, 0, 0, 0, 0, 0, 0, 0, 0, 0, 0, 0, 0, 0, 0, 0, 0, 0, 0, 0, 0, 0, 0, 0, 0, 0, 0, 0, 0, 0, 0, 0, 0, 0, 0, 0, 0, 0, 0, 0, 0, 0, 0, 0, 0, 0, 0, 0, 0, 0, 0, 0, 0, 0, 0, 0, 0, 0, 0, 0, 0, 0, 0, 0, 0, 0, 0, 0, 0, 0, 0, 0, 0, 0, 0, 0, 0, 0, 0, 0, 0, 0, 0, 0, 0, 0, 0, 0, 0, 0, 0, 0, 0, 0, 0, 0, 0, 0, 0, 0, 0, 0, 0, 0, 0, 0, 0, 0, 0, 0, 0, 0, 0, 0, 0, 0, 0, 0, 0, 0, 0, 0, 0, 0, 0, 0, 0, 0, 0, 0, 0, 0, 0, 0, 0, 0, 0, 0, 0, 0, 0, 0, 0, 0, 0, 0, 0, 0, 0, 0, 0, 0, 0, 0, 0, 0, 0, 0, 0, 0, 0, 0, 0, 0, 0, 0, 0, 0, 0, 0, 0, 0, 0, 0, 0, 0, 0, 0, 0, 0, 0, 0, 0, 0, 0, 0, 0, 0, 0, 0, 0, 0, 0, 0, 0, 0, 0, 0, 0, 0, 0, 0, 0, 0, 0, 0, 0, 0, 0, 0, 0, 0, 0, 0, 0, 0, 0, 0, 0, 0, 0, 0, 0, 0, 0, 0, 0, 0, 0, 0, 0, 0, 0, 0, 0, 0, 0, 0, 0, 0, 0, 0, 0, 0, 0, 0, 0, 0, 0, 0, 0, 0, 0, 0, 0, 0, 0, 0, 0, 0, 0, 0, 0, 0, 0, 0, 0, 0, 0, 0, 0, 0, 0, 0, 0, 0, 0, 0, 0, 0, 0, 0, 0, 0, 0, 0, 0, 0, 0, 0, 0, 0, 0, 0, 0, 0, 0, 0, 0, 0, 0, 0, 0, 0, 0, 0, 0, 0, 0, 0, 0, 0, 0, 0, 0, 0, 0, 0, 0, 0, 0, 0, 0, 0, 0, 0, 0, 0, 0, 0, 0, 0, 0, 0, 0, 0, 0, 0, 0, 0, 0, 0, 0, 0, 0, 0, 0, 0, 0, 0, 0, 0, 0, 0, 0, 0, 0, 0, 0, 0, 0, 0, 0, 0, 0, 0, 0, 0, 0, 0, 0, 0, 0, 0, 0, 0, 0, 0, 0, 0, 0, 0, 0, 0, 0, 0, 0, 0, 0, 0, 0, 0, 0, 0, 0, 0, 0, 0, 0, 0, 0, 0, 0, 0, 0, 0, 0, 0, 0, 0, 0, 0, 0, 0, 0, 0, 0, 0, 0, 0, 0, 0, 0, 0, 0, 0, 0, 0, 0, 0, 0, 0, 0, 0, 0, 0, 0, 0, 0, 0, 0, 0, 0, 0, 0, 0, 0, 0, 0, 0, 0, 0, 0, 0, 0, 0, 0, 0, 0, 0, 0, 0, 0, 0, 0, 0, 0, 0, 0, 0, 0, 0, 0, 0, 0, 0, 0, 0, 0, 0, 0, 0, 0, 0, 0, 0, 0, 0, 0, 0, 0, 0, 0, 0, 0, 0, 0, 0, 0, 0, 0, 0, 0, 0, 0, 0, 0, 0, 0, 0, 0, 0, 0, 0, 0, 0, 0, 0, 0, 0, 0, 0, 0, 0, 0, 0, 0, 0, 0, 0, 0, 0, 0, 0, 0, 0, 0, 0, 0, 0, 0, 0, 0, 0, 0, 0, 0, 0, 0, 0, 0, 0, 0, 0, 0, 0, 0, 0, 0, 0, 0, 0, 0, 0, 0, 0, 0, 0, 0, 0, 0, 0, 0, 0, 0, 0, 0, 0, 0, 0, 0, 0, 0, 0, 0, 0, 0, 0, 0, 0, 0, 0, 0, 0, 0, 0, 0, 0, 0, 0, 0, 0, 0, 0, 0, 0, 0, 0, 0, 0, 0, 0, 0, 0, 0, 0, 0, 0, 0, 0, 0, 0, 0, 0, 0, 0, 0, 0, 0, 0, 0, 0, 0, 0, 0, 0, 0, 0, 0, 0, 0, 0, 0, 0, 0, 0, 0, 0, 0, 0, 0, 0, 0, 0, 0, 0, 0, 0, 0, 0, 0, 0, 0, 0, 0, 0, 0, 0, 0, 0, 0, 0, 0, 0, 0, 0, 0, 0, 0, 0, 0, 0, 0, 0, 0, 0, 0, 0, 0, 0, 0, 0, 0, 0, 0, 0, 0, 0, 0, 0, 0, 0, 0, 0, 0, 0, 0, 0, 0, 0, 0, 0, 0, 0, 0, 0, 0, 0, 0, 0, 0, 0, 0, 0, 0, 0, 0, 0, 0, 0, 0, 0, 0, 0, 0, 0, 0, 0, 0, 0, 0, 0, 0, 0, 0, 0, 0, 0, 0, 0, 0, 0, 0, 0, 0, 0, 0, 0, 0, 0, 0, 0, 0, 0, 0, 0, 0, 0, 0, 0, 0, 0, 0, 0, 0, 0, 0, 0, 0, 0, 0, 0, 0, 0, 0, 0, 0, 0, 0, 0, 0, 0, 0, 0, 0, 0, 0, 0, 0, 0, 0, 0, 0, 0, 0, 0, 0, 0, 0, 0, 0, 0, 0, 0, 0, 0, 0, 0, 0, 0, 0, 0, 0, 0, 0, 0, 0, 0, 0, 0, 0, 0, 0, 0, 0, 0, 0, 0, 0, 0, 0, 0, 0, 0, 0, 0, 0, 0, 0, 0, 0, 0, 0, 0, 0, 0, 0, 0, 0, 0, 0, 0, 0, 0, 0, 0, 0, 0, 0, 0, 0, 0, 0, 0, 0, 0, 0, 0, 0, 0, 0, 0, 0, 0, 0, 0, 0, 0, 0, 0, 0, 0, 0, 0, 0, 0, 0, 0, 0, 0, 0, 0, 0, 0, 0, 0, 0, 0, 0, 0, 0, 0, 0, 0, 0, 0, 0, 0, 0, 0, 0, 0, 0, 0, 0, 0, 0, 0, 0, 0, 0, 0, 0, 0, 0, 0, 0, 0, 0, 0, 0, 0, 0, 0, 0, 0, 0, 0, 0, 0, 0, 0, 0, 0, 0, 0, 0, 0, 0, 0, 0, 0, 0, 0, 0, 0, 0, 0, 0, 0, 0, 0, 0, 0, 0, 0, 0, 0, 0, 0, 0, 0, 0, 0, 0, 0, 0, 0, 0, 0, 0, 0, 0, 0, 0, 0, 0, 0, 0, 0, 0, 0, 0, 0, 0, 0, 0, 0, 0, 0, 0, 0, 0, 0, 0, 0, 0, 0, 0, 0, 0, 0, 0, 0, 0, 0, 0, 0, 0, 0, 0, 0, 0, 0, 0, 0, 0, 0, 0, 0, 0, 0, 0, 0, 0, 0, 0, 0, 0, 0, 0, 0, 0, 0, 0, 0, 0, 0, 0, 0, 0, 0, 0, 0, 0, 0, 0, 0, 0, 0, 0, 0, 0, 0, 0, 0, 0, 0, 0, 0, 0, 0, 0, 0, 0, 0, 0, 0, 0, 0, 0, 0, 0, 0, 0, 0, 0, 0, 0, 0, 0, 0, 0, 0, 0, 0, 0, 0, 0, 0, 0, 0, 0, 0, 0, 0, 0, 0, 0, 0, 0, 0, 0, 0, 0, 0, 0, 0, 0, 0, 0, 0, 0, 0, 0, 0, 0, 0, 0, 0, 0, 0, 0, 0, 0, 0, 0, 0, 0, 0, 0, 0, 0, 0, 0, 0, 0, 0, 0, 0, 0, 0, 0, 0, 0, 0, 0, 0, 0, 0, 0, 0, 0, 0, 0, 0, 0, 0, 0, 0, 0, 0, 0, 0, 0, 0, 0, 0, 0, 0, 0, 0, 0, 0, 0, 0, 0, 0, 0, 0, 0, 0, 0, 0, 0, 0, 0, 0, 0, 0, 0, 0, 0, 0, 0, 0, 0, 0, 0, 0, 0, 0, 0, 0, 0, 0, 0, 0, 0, 0, 0, 0, 0, 0, 0, 0, 0, 0, 0, 0, 0, 0, 0, 0, 0, 0, 0, 0, 0, 0, 0, 0, 0, 0, 0, 0, 0, 0, 0, 0, 0, 0, 0, 0, 0, 0, 0, 0, 0, 0, 0, 0, 0, 0, 0, 0, 0, 0, 0, 0, 0, 0, 0, 0, 0, 0, 0, 0, 0, 0, 0, 0, 0, 0, 0, 0, 0, 0, 0, 0, 0, 0, 0, 0, 0, 0, 0, 0, 0, 0, 0, 0, 0, 0, 0, 0, 0, 0, 0, 0, 0, 0, 0, 0, 0, 0, 0, 0, 0, 0, 0, 0, 0, 0, 0, 0, 0, 0, 0, 0, 0, 0, 0, 0, 0, 0, 0, 0, 0, 0, 0, 0, 0, 0, 0, 0, 0, 0, 0, 0, 0, 0, 0, 0, 0, 0, 0, 0, 0, 0, 0, 0, 0, 0, 0, 0, 0, 0, 0, 0, 0, 0, 0, 0, 0, 0, 0, 0, 0, 0, 0, 0, 0, 0, 0, 0, 0, 0, 0, 0, 0, 0, 0, 0, 0, 0, 0, 0, 0, 0, 0, 0, 0, 0, 0, 0, 0, 0, 0, 0, 0, 0, 0, 0, 0, 0, 0, 0, 0, 0, 0, 0, 0, 0, 0, 0, 0, 0, 0, 0, 0, 0, 0, 0, 0, 0, 0, 0, 0, 0, 0, 0, 0, 0, 0, 0, 0, 0, 0, 0, 0, 0, 0, 0, 0, 0, 0, 0, 0, 0, 0, 0, 0, 0, 0, 0, 0, 0, 0, 0, 0, 0, 0, 0, 0, 0, 0, 0, 0, 0, 0, 0, 0, 0, 0, 0, 0, 0, 0, 0, 0, 0, 0, 0, 0, 0, 0, 0, 0, 0, 0, 0, 0, 0, 0, 0, 0, 0, 0, 0, 0, 0, 0, 0, 0, 0, 0, 0, 0, 0, 0, 0, 0, 0, 0, 0, 0, 0, 0, 0, 0, 0, 0, 0, 0, 0, 0, 0, 0, 0, 0, 0, 0, 0, 0, 0, 0, 0, 0, 0, 0, 0, 0, 0, 0, 0, 0, 0, 0, 0, 0, 0, 0, 0, 0, 0, 0, 0, 0, 0, 0, 0, 0, 0, 0, 0, 0, 0, 0, 0, 0, 0, 0, 0, 0, 0, 0, 0, 0, 0, 0, 0, 0, 0, 0, 0, 0, 0, 0, 0, 0, 0, 0, 0, 0, 0, 0, 0, 0, 0, 0, 0, 0, 0, 0, 0, 0, 0, 0, 0, 0, 0, 0, 0, 0, 0, 0, 0, 0, 0, 0, 0, 0, 0, 0, 0, 0, 0, 0, 0, 0, 0, 0, 0, 0, 0, 0, 0, 0, 0, 0, 0, 0, 0, 0, 0, 0, 0, 0, 0, 0, 0, 0, 0, 0, 0, 0, 0, 0, 0, 0, 0, 0, 0, 0, 0, 0, 0, 0, 0, 0, 0, 0, 0, 0, 0, 0, 0, 0, 0, 0, 0, 0, 0, 0, 0, 0, 0, 0, 0, 0, 0, 0, 0, 0, 0, 0, 0, 0, 0, 0, 0, 0, 0, 0, 0, 0, 0, 0, 0, 0, 0, 0, 0, 0, 0, 0, 0, 0, 0, 0, 0, 0, 0, 0, 0, 0, 0, 0, 0, 0, 0, 0, 0, 0, 0, 0, 0, 0, 0, 0, 0, 0, 0, 0, 0, 0, 0, 0, 0, 0, 0, 0, 0, 0, 0, 0, 0, 0, 0, 0, 0, 0, 0, 0, 0, 0, 0, 0, 0, 0, 0, 0, 0, 0, 0, 0, 0, 0, 0, 0, 0, 0, 0, 0, 0, 0, 0, 0, 0, 0, 0, 0, 0, 0, 0, 0, 0, 0, 0, 0, 0, 0, 0, 0, 0, 0, 0, 0, 0, 0, 0, 0, 0, 0, 0, 0, 0, 0, 0, 0, 0, 0, 0, 0, 0, 0, 0, 0, 0, 0, 0, 0, 0, 0, 0, 0, 0, 0, 0, 0, 0, 0, 0, 0, 0, 0, 0, 0, 0, 0, 0, 0, 0, 0, 0, 0, 0, 0, 0, 0, 0, 0, 0, 0, 0, 0, 0, 0, 0, 0, 0, 0, 0, 0, 0, 0, 0, 0, 0, 0, 0, 0, 0, 0, 0, 0, 0, 0, 0, 0, 0, 0, 0, 0, 0, 0, 0, 0, 0, 0, 0, 0, 0, 0, 0, 0, 0, 0, 0, 0, 0, 0, 0, 0, 0, 0, 0, 0, 0, 0, 0, 0, 0, 0, 0, 0, 0, 0, 0, 0, 0]\n"
     ]
    }
   ],
   "source": [
    " print(X_pca[0], X[0])"
   ]
  },
  {
   "cell_type": "code",
   "execution_count": 8,
   "id": "f18ad82b-08f3-4467-8428-20c7768a9fa6",
   "metadata": {},
   "outputs": [
    {
     "name": "stdout",
     "output_type": "stream",
     "text": [
      "F1-Score: 0.7702702702702702\n",
      "F1-Score: 0.26666666666666666\n"
     ]
    }
   ],
   "source": [
    "np.random.seed(42)\n",
    "\n",
    "X_train, X_test, y_train, y_test = train_test_split(\n",
    "    X_pca, y_resampled, test_size=0.2, random_state=42\n",
    ")\n",
    "\n",
    "# Train a Decision Tree classifier\n",
    "clf = DecisionTreeClassifier(random_state=42)\n",
    "clf.fit(X_train, y_train)\n",
    "\n",
    "clf_NB = GaussianNB()\n",
    "clf_NB.fit(X_train, y_train)\n",
    "\n",
    "# Make predictions and evaluate the model\n",
    "y_pred = clf.predict(X_test)\n",
    "y_pred_NB = clf_NB.predict(X_test)\n",
    "f1 = f1_score(y_test, y_pred)\n",
    "f1_2 = f1_score(y_test, y_pred_NB)\n",
    "print(f\"F1-Score: {f1}\")\n",
    "print(f\"F1-Score: {f1_2}\")"
   ]
  },
  {
   "cell_type": "code",
   "execution_count": 9,
   "id": "9ccf583d-72bb-48ce-941e-1473943d6bcf",
   "metadata": {},
   "outputs": [
    {
     "data": {
      "image/png": "[encoded data removed]",
      "text/plain": [
       "<Figure size 640x480 with 1 Axes>"
      ]
     },
     "metadata": {},
     "output_type": "display_data"
    }
   ],
   "source": [
    "import matplotlib.pyplot as plt\n",
    "\n",
    "pca = PCA().fit(X_scaled)\n",
    "plt.plot(np.cumsum(pca.explained_variance_ratio_))\n",
    "plt.xlabel('Number of Components')\n",
    "plt.ylabel('Cumulative Explained Variance')\n",
    "plt.show()\n"
   ]
  },
  {
   "cell_type": "code",
   "execution_count": 10,
   "id": "c27a0a70-587e-4c27-a030-a6cd8efa11a4",
   "metadata": {},
   "outputs": [],
   "source": [
    "class DecisionTree:\n",
    "    def __init__(self, max_depth=5):\n",
    "        self.max_depth = max_depth\n",
    "        self.tree = None\n",
    "\n",
    "    class Node:\n",
    "        def __init__(self, feature_index=None, threshold=None, left=None, right=None, value=None):\n",
    "            self.feature_index = feature_index  # Index of the feature to split on\n",
    "            self.threshold = threshold  # Value of the split\n",
    "            self.left = left  # Left child node\n",
    "            self.right = right  # Right child node\n",
    "            self.value = value  # Value (class label) for leaf nodes\n",
    "\n",
    "    def _gini(self, y):\n",
    "        \"\"\"Calculate the Gini impurity for a list of labels.\"\"\"\n",
    "        unique, counts = np.unique(y, return_counts=True)\n",
    "        probabilities = counts / counts.sum()\n",
    "        gini = 1 - np.sum(probabilities ** 2)\n",
    "        return gini\n",
    "\n",
    "    def _best_split(self, X, y):\n",
    "        \"\"\"Find the best feature and threshold to split the data.\"\"\"\n",
    "        best_gini = float('inf')\n",
    "        best_split = None\n",
    "\n",
    "        for feature_index in range(len(X[0])):  # Loop through all features\n",
    "            thresholds = np.unique([x[feature_index] for x in X])  # Unique values for the feature\n",
    "            for threshold in thresholds:\n",
    "                # Split the data based on the threshold\n",
    "                left_indices = [i for i in range(len(X)) if X[i][feature_index] < threshold]\n",
    "                right_indices = [i for i in range(len(X)) if X[i][feature_index] >= threshold]\n",
    "\n",
    "                if not left_indices or not right_indices:\n",
    "                    continue  # Skip if one side is empty\n",
    "\n",
    "                # Calculate Gini impurity for the split\n",
    "                left_gini = self._gini([y[i] for i in left_indices])\n",
    "                right_gini = self._gini([y[i] for i in right_indices])\n",
    "                gini_split = (len(left_indices) / len(X)) * left_gini + \\\n",
    "                             (len(right_indices) / len(X)) * right_gini\n",
    "\n",
    "                if gini_split < best_gini:\n",
    "                    best_gini = gini_split\n",
    "                    best_split = {\n",
    "                        'feature_index': feature_index,\n",
    "                        'threshold': threshold,\n",
    "                        'left_indices': left_indices,\n",
    "                        'right_indices': right_indices\n",
    "                    }\n",
    "        return best_split\n",
    "\n",
    "    def _build_tree(self, X, y, depth=0):\n",
    "        \"\"\"Recursively build the decision tree.\"\"\"\n",
    "        if len(set(y)) == 1:  # If all labels are the same, return a leaf node\n",
    "            return self.Node(value=y[0])\n",
    "\n",
    "        if depth >= self.max_depth:  # If max depth reached, return the majority class\n",
    "            majority_class = max(set(y), key=y.count)\n",
    "            return self.Node(value=majority_class)\n",
    "\n",
    "        # Find the best split\n",
    "        split = self._best_split(X, y)\n",
    "        if not split:  # If no valid split, return a leaf node\n",
    "            majority_class = max(set(y), key=y.count)\n",
    "            return self.Node(value=majority_class)\n",
    "\n",
    "        # Recursively build the left and right subtrees\n",
    "        left = self._build_tree([X[i] for i in split['left_indices']],\n",
    "                                [y[i] for i in split['left_indices']], depth + 1)\n",
    "        right = self._build_tree([X[i] for i in split['right_indices']],\n",
    "                                 [y[i] for i in split['right_indices']], depth + 1)\n",
    "\n",
    "        return self.Node(feature_index=split['feature_index'], threshold=split['threshold'],\n",
    "                         left=left, right=right)\n",
    "\n",
    "    def fit(self, X, y):\n",
    "        \"\"\"Fit the decision tree to the data.\"\"\"\n",
    "        self.tree = self._build_tree(X, y)\n",
    "\n",
    "    def _predict(self, node, x):\n",
    "        \"\"\"Recursively predict the class for a single sample.\"\"\"\n",
    "        if node.value is not None:\n",
    "            return node.value\n",
    "\n",
    "        if x[node.feature_index] < node.threshold:\n",
    "            return self._predict(node.left, x)\n",
    "        else:\n",
    "            return self._predict(node.right, x)\n",
    "\n",
    "    def predict(self, X):\n",
    "        \"\"\"Predict the class for multiple samples.\"\"\"\n",
    "        return [self._predict(self.tree, x) for x in X]"
   ]
  },
  {
   "cell_type": "code",
   "execution_count": 11,
   "id": "fc750358-761c-4c53-b578-6bf331f22894",
   "metadata": {},
   "outputs": [],
   "source": [
    "class NaiveBayes:\n",
    "    def __init__(self):\n",
    "        self.classes = None  # Unique class labels\n",
    "        self.mean = {}  # Mean of each feature for each class\n",
    "        self.variance = {}  # Variance of each feature for each class\n",
    "        self.priors = {}  # Prior probabilities for each class\n",
    "\n",
    "    def fit(self, X, y):\n",
    "        \"\"\"Fit the model to the training data.\"\"\"\n",
    "        self.classes = np.unique(y)  # Find the unique class labels\n",
    "\n",
    "        # Calculate mean, variance, and prior for each class\n",
    "        for cls in self.classes:\n",
    "            X_cls = np.array([X[i] for i in range(len(X)) if y[i] == cls])\n",
    "            self.mean[cls] = np.mean(X_cls, axis=0)\n",
    "            self.variance[cls] = np.var(X_cls, axis=0) + 1e-6  # Add a small value to avoid division by zero\n",
    "            self.priors[cls] = X_cls.shape[0] / len(X)\n",
    "\n",
    "    def _gaussian_pdf(self, x, mean, var):\n",
    "        \"\"\"Calculate the Gaussian probability density function.\"\"\"\n",
    "        exponent = math.exp(-((x - mean) ** 2) / (2 * var))\n",
    "        return (1 / math.sqrt(2 * math.pi * var)) * exponent\n",
    "\n",
    "    def predict(self, X):\n",
    "        \"\"\"Predict the class labels for the given data.\"\"\"\n",
    "        predictions = []\n",
    "        for x in X:\n",
    "            posteriors = {}\n",
    "            # Calculate posterior for each class\n",
    "            for cls in self.classes:\n",
    "                # Start with the log prior\n",
    "                posteriors[cls] = math.log(self.priors[cls])\n",
    "\n",
    "                # Add the log likelihoods for all features\n",
    "                for i in range(len(x)):\n",
    "                    mean = self.mean[cls][i]\n",
    "                    var = self.variance[cls][i]\n",
    "                    posteriors[cls] += math.log(self._gaussian_pdf(x[i], mean, var))\n",
    "\n",
    "            # Predict the class with the highest posterior\n",
    "            predictions.append(max(posteriors, key=posteriors.get))\n",
    "        return predictions"
   ]
  },
  {
   "cell_type": "code",
   "execution_count": 12,
   "id": "8c5f465b-4b44-4711-9ced-db0e19f54c8e",
   "metadata": {},
   "outputs": [],
   "source": [
    "np.random.seed(42)\n",
    "tree = DecisionTree(max_depth=3)\n",
    "tree.fit(X_train, y_train)"
   ]
  },
  {
   "cell_type": "code",
   "execution_count": 13,
   "id": "17b4f59c-7d42-4db5-9ad1-931f86662937",
   "metadata": {},
   "outputs": [],
   "source": [
    "np.random.seed(42)\n",
    "naive = NaiveBayes()\n",
    "naive.fit(X_train, y_train)"
   ]
  },
  {
   "cell_type": "code",
   "execution_count": 14,
   "id": "b05d854a-2bb1-49a8-b5b6-bfab37575554",
   "metadata": {},
   "outputs": [
    {
     "name": "stdout",
     "output_type": "stream",
     "text": [
      "Predictions: [0, 0, 0, 0, 0, 0, 0, 0, 0, 0, 0, 0, 0, 0, 0, 1, 0, 1, 0, 0, 0, 0, 0, 1, 0, 0, 0, 0, 0, 0, 0, 0, 0, 1, 0, 0, 0, 0, 0, 0, 0, 0, 0, 0, 0, 0, 0, 0, 0, 0, 0, 0, 0, 0, 0, 0, 1, 1, 0, 0, 0, 0, 0, 0, 0, 0, 1, 0, 0, 0, 0, 1, 1, 0, 0, 0, 0, 0, 1, 0, 0, 0, 0, 0, 0, 0, 0, 1, 0, 0, 0, 0, 0, 0, 0, 1, 0, 0, 0, 0, 0, 0, 0, 0, 1, 0, 0, 0, 1, 0, 0, 0, 0, 0, 0, 0, 0, 0, 0, 1, 0, 1, 0, 0, 0, 0, 0, 1, 0, 1, 0, 0, 0, 0, 0, 0, 0, 0, 0, 0, 1, 0, 0, 0, 0, 0, 0, 0, 0, 0, 0, 0, 0, 1, 0, 0, 0, 0, 0, 0, 0, 0, 0, 0, 1, 0, 0, 1, 0, 0, 0, 0, 0, 0, 0, 0, 0, 0, 0, 0, 0, 0, 1, 0, 0, 0, 0, 0, 0, 0, 0, 0, 1, 0, 1, 0, 0, 0, 0, 0, 1, 0, 0, 0, 0, 0, 0, 0, 0, 1, 0, 0, 0, 0, 0, 0, 0, 0, 0, 0, 1, 1, 0, 1, 0, 0, 0, 0, 0, 0, 0, 0, 0, 0, 1, 0, 0, 0, 0, 0, 1, 0, 0, 0, 0, 0, 0, 0, 0, 0, 1, 0, 0, 1, 0, 0, 0, 0, 0, 0, 0, 1, 0, 0, 0, 0, 0, 0, 0, 0, 0, 0, 0, 0, 0, 0, 0, 0, 0, 0, 0, 0, 0, 0, 0, 0, 0, 0, 0]\n"
     ]
    }
   ],
   "source": [
    "np.random.seed(42)\n",
    "naive_predicitions = naive.predict(X_test)\n",
    "print(\"Predictions:\", naive_predicitions)"
   ]
  },
  {
   "cell_type": "code",
   "execution_count": 42,
   "id": "1efb117c-419b-42ab-9d5a-017f04c6e7a3",
   "metadata": {},
   "outputs": [
    {
     "name": "stdout",
     "output_type": "stream",
     "text": [
      "Predictions: [0, 0, 1, 0, 1, 0, 0, 1, 1, 1, 0, 0, 0, 1, 0, 0, 1, 1, 1, 0, 0, 1, 1, 1, 1, 0, 1, 0, 0, 1, 0, 0, 1, 0, 1, 0, 0, 1, 1, 0, 1, 1, 1, 1, 0, 0, 0, 1, 0, 0, 1, 0, 1, 1, 1, 1, 1, 1, 1, 1, 1, 1, 1, 0, 0, 0, 0, 0, 1, 0, 1, 0, 1, 0, 0, 1, 0, 1, 1, 0, 1, 0, 1, 0, 0, 0, 1, 0, 0, 1, 0, 0, 1, 0, 0, 1, 1, 1, 1, 1, 0, 1, 1, 0, 1, 0, 1, 1, 1, 1, 1, 1, 0, 1, 1, 1, 1, 0, 0, 0, 0, 1, 0, 0, 1, 1, 0, 0, 0, 1, 1, 0, 0, 0, 0, 1, 1, 1, 1, 1, 1, 1, 0, 1, 1, 1, 0, 0, 1, 0, 0, 0, 0, 1, 0, 0, 0, 1, 0, 0, 1, 0, 0, 1, 1, 0, 1, 0, 1, 0, 1, 1, 0, 0, 1, 0, 1, 0, 1, 1, 0, 0, 0, 0, 0, 0, 1, 1, 0, 0, 0, 1, 0, 0, 1, 1, 0, 0, 0, 0, 0, 0, 0, 0, 0, 1, 1, 0, 0, 1, 0, 0, 0, 1, 1, 1, 1, 1, 0, 1, 1, 1, 1, 0, 0, 1, 1, 0, 0, 1, 1, 1, 1, 1, 1, 0, 0, 0, 1, 0, 1, 0, 0, 1, 1, 0, 0, 0, 1, 0, 1, 1, 1, 1, 0, 1, 1, 0, 0, 0, 1, 1, 1, 1, 1, 1, 1, 0, 1, 0, 1, 0, 1, 0, 0, 0, 1, 1, 1, 1, 0, 1, 0, 1, 0, 0, 1, 1, 1]\n"
     ]
    }
   ],
   "source": [
    "np.random.seed(42)\n",
    "predictions = tree.predict(X_test)  # Predict the first 5 samples\n",
    "print(\"Predictions:\", predictions)"
   ]
  },
  {
   "cell_type": "code",
   "execution_count": 16,
   "id": "aee50291-6e0d-41bc-b95e-eacc46a4cbc1",
   "metadata": {},
   "outputs": [
    {
     "name": "stdout",
     "output_type": "stream",
     "text": [
      "F1-Score (Decision Tree): 0.6530612244897959\n",
      "F1-Score(Naive Bayes): 0.26666666666666666\n"
     ]
    }
   ],
   "source": [
    "f1_DT = f1_score(y_test, predictions)\n",
    "f1_NB = f1_score(y_test, naive_predicitions)\n",
    "print(f\"F1-Score (Decision Tree): {f1_DT}\")\n",
    "print(f\"F1-Score(Naive Bayes): {f1_NB}\")"
   ]
  },
  {
   "cell_type": "markdown",
   "id": "30d32223-3c20-40fd-adb7-988eab58ce67",
   "metadata": {},
   "source": [
    "### Now lets feed the real Test data(Unseen data) and store the prediction in a different file."
   ]
  },
  {
   "cell_type": "code",
   "execution_count": 38,
   "id": "ca178df6-5dc9-466e-abed-9a6d0f3b88a7",
   "metadata": {},
   "outputs": [
    {
     "name": "stdout",
     "output_type": "stream",
     "text": [
      "350\n"
     ]
    }
   ],
   "source": [
    "test_data = []\n",
    "with open(\"test_data.txt\", 'r') as file:\n",
    "    for line in file:\n",
    "        if line.strip():\n",
    "            clean_line = re.sub(r'\\t+', ' ', line).strip()\n",
    "            ready_data = [int(f) for f in clean_line.split()]\n",
    "            test_data.append(ready_data)\n",
    "print(len(test_data))"
   ]
  },
  {
   "cell_type": "code",
   "execution_count": 61,
   "id": "86db79bf-a882-45f0-ab5c-2df484ee9c88",
   "metadata": {},
   "outputs": [],
   "source": [
    "max_length = max(len(row) for row in test_data)\n",
    "test_data_padded = [row + [0] * (max_length - len(row)) for row in test_data]"
   ]
  },
  {
   "cell_type": "code",
   "execution_count": 62,
   "id": "2f032114-680b-4e3c-93cf-d903c1ff1eef",
   "metadata": {},
   "outputs": [
    {
     "name": "stdout",
     "output_type": "stream",
     "text": [
      "Original shape: (350, 6061)\n",
      "Transformed shape after PCA: (350, 10)\n"
     ]
    }
   ],
   "source": [
    "test_pca = apply_pca(test_data_padded, n_components=10)"
   ]
  },
  {
   "cell_type": "code",
   "execution_count": 68,
   "id": "7724b108-5834-4357-b79e-445b6b141e0a",
   "metadata": {},
   "outputs": [
    {
     "name": "stdout",
     "output_type": "stream",
     "text": [
      "[ 477132.59928655 -519887.53628364  213001.61946168  151862.71279515\n",
      " -271556.04626868  -50692.39746709  173648.36820028 -184748.32235397\n",
      "    9524.24611735   70968.39221123]\n"
     ]
    }
   ],
   "source": [
    "print(test_pca[1])"
   ]
  },
  {
   "cell_type": "code",
   "execution_count": 69,
   "id": "61736c6b-2bee-4155-8378-8e61d1b4dcef",
   "metadata": {},
   "outputs": [
    {
     "name": "stdout",
     "output_type": "stream",
     "text": [
      "Predictions: [0, 1, 1, 0, 1, 1, 0, 1, 0, 1, 0, 1, 0, 1, 0, 0, 1, 1, 1, 0, 1, 0, 0, 0, 1, 1, 1, 0, 1, 0, 1, 1, 1, 0, 1, 0, 0, 1, 0, 0, 0, 0, 0, 0, 1, 0, 0, 0, 0, 1, 1, 0, 0, 0, 0, 1, 0, 1, 0, 1, 0, 1, 0, 1, 0, 0, 1, 0, 1, 0, 0, 0, 0, 0, 0, 1, 0, 1, 0, 0, 1, 0, 1, 0, 0, 0, 0, 0, 1, 0, 1, 0, 0, 0, 0, 0, 1, 0, 0, 1, 0, 0, 0, 1, 0, 1, 0, 1, 0, 0, 0, 1, 0, 0, 0, 0, 0, 0, 1, 0, 0, 0, 0, 0, 0, 1, 1, 1, 1, 1, 0, 0, 1, 1, 1, 1, 0, 0, 0, 0, 0, 1, 1, 0, 0, 0, 0, 1, 0, 0, 0, 1, 0, 1, 0, 0, 0, 1, 1, 0, 1, 0, 0, 0, 0, 1, 0, 1, 0, 1, 1, 1, 0, 0, 0, 1, 0, 1, 0, 0, 1, 1, 1, 1, 0, 1, 0, 0, 0, 1, 1, 1, 0, 1, 0, 1, 0, 1, 0, 1, 0, 1, 0, 1, 0, 0, 0, 0, 0, 0, 1, 1, 0, 1, 1, 0, 0, 0, 0, 0, 1, 1, 0, 0, 0, 1, 0, 0, 0, 1, 1, 0, 0, 0, 0, 0, 1, 0, 0, 0, 0, 0, 1, 1, 0, 1, 0, 0, 1, 0, 0, 0, 1, 1, 1, 0, 0, 0, 1, 1, 1, 0, 0, 0, 1, 0, 0, 1, 0, 0, 0, 0, 1, 1, 1, 0, 1, 0, 1, 1, 1, 1, 0, 0, 1, 0, 0, 0, 0, 1, 1, 1, 0, 0, 0, 0, 0, 0, 0, 0, 1, 1, 1, 0, 0, 1, 0, 1, 1, 0, 1, 0, 1, 1, 1, 0, 1, 1, 1, 1, 0, 1, 0, 1, 0, 1, 0, 1, 0, 0, 1, 0, 0, 1, 1, 0, 0, 1, 0, 1, 0, 0, 0, 0, 1, 0, 1, 1, 1, 1]\n"
     ]
    }
   ],
   "source": [
    "test_data_prediction_DT = tree.predict(test_pca) \n",
    "print(\"Predictions:\", test_data_prediction_DT)"
   ]
  },
  {
   "cell_type": "code",
   "execution_count": 70,
   "id": "83b0539e-99ec-4e06-9956-c62547179805",
   "metadata": {},
   "outputs": [],
   "source": [
    "format_file = \"Format.txt\"\n",
    "with open(format_file, 'w+') as file:\n",
    "    for prediction in test_data_prediction_DT:\n",
    "        file.write(str(prediction) + '\\n')"
   ]
  },
  {
   "cell_type": "code",
   "execution_count": null,
   "id": "a0588175-e91f-44c2-9fc4-13ecfd73ace0",
   "metadata": {},
   "outputs": [],
   "source": []
  }
 ],
 "metadata": {
  "kernelspec": {
   "display_name": "Python 3 (ipykernel)",
   "language": "python",
   "name": "python3"
  },
  "language_info": {
   "codemirror_mode": {
    "name": "ipython",
    "version": 3
   },
   "file_extension": ".py",
   "mimetype": "text/x-python",
   "name": "python",
   "nbconvert_exporter": "python",
   "pygments_lexer": "ipython3",
   "version": "3.8.19"
  }
 },
 "nbformat": 4,
 "nbformat_minor": 5
}
